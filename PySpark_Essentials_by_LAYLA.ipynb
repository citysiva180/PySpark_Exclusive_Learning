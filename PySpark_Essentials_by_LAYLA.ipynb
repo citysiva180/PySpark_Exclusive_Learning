{
  "nbformat": 4,
  "nbformat_minor": 0,
  "metadata": {
    "colab": {
      "provenance": [],
      "mount_file_id": "1znNN3wolGhYdmq5mYXbme1_QtRO9VbrV",
      "authorship_tag": "ABX9TyNkVxgaE121kAT5aYhK20Ov",
      "include_colab_link": true
    },
    "kernelspec": {
      "name": "python3",
      "display_name": "Python 3"
    },
    "language_info": {
      "name": "python"
    }
  },
  "cells": [
    {
      "cell_type": "markdown",
      "metadata": {
        "id": "view-in-github",
        "colab_type": "text"
      },
      "source": [
        "<a href=\"https://colab.research.google.com/github/citysiva180/PySpark_Exclusive_Learning/blob/main/PySpark_Essentials_by_LAYLA.ipynb\" target=\"_parent\"><img src=\"https://colab.research.google.com/assets/colab-badge.svg\" alt=\"Open In Colab\"/></a>"
      ]
    },
    {
      "cell_type": "code",
      "execution_count": null,
      "metadata": {
        "colab": {
          "base_uri": "https://localhost:8080/"
        },
        "id": "ORIFqz0yC3Wm",
        "outputId": "5d12d1d5-5c06-4de7-c135-78d193502bc7"
      },
      "outputs": [
        {
          "output_type": "stream",
          "name": "stdout",
          "text": [
            "Looking in indexes: https://pypi.org/simple, https://us-python.pkg.dev/colab-wheels/public/simple/\n",
            "Collecting pyspark\n",
            "  Downloading pyspark-3.4.0.tar.gz (310.8 MB)\n",
            "\u001b[2K     \u001b[90m━━━━━━━━━━━━━━━━━━━━━━━━━━━━━━━━━━━━━━━\u001b[0m \u001b[32m310.8/310.8 MB\u001b[0m \u001b[31m2.6 MB/s\u001b[0m eta \u001b[36m0:00:00\u001b[0m\n",
            "\u001b[?25h  Preparing metadata (setup.py) ... \u001b[?25l\u001b[?25hdone\n",
            "Requirement already satisfied: py4j==0.10.9.7 in /usr/local/lib/python3.9/dist-packages (from pyspark) (0.10.9.7)\n",
            "Building wheels for collected packages: pyspark\n",
            "  Building wheel for pyspark (setup.py) ... \u001b[?25l\u001b[?25hdone\n",
            "  Created wheel for pyspark: filename=pyspark-3.4.0-py2.py3-none-any.whl size=311317145 sha256=f9cfcc036bb908a329f00b8064ad5c4a7eb498cedfad8d6c9196d00b1890d88b\n",
            "  Stored in directory: /root/.cache/pip/wheels/9f/34/a4/159aa12d0a510d5ff7c8f0220abbea42e5d81ecf588c4fd884\n",
            "Successfully built pyspark\n",
            "Installing collected packages: pyspark\n",
            "Successfully installed pyspark-3.4.0\n"
          ]
        }
      ],
      "source": [
        "!pip install pyspark"
      ]
    },
    {
      "cell_type": "markdown",
      "source": [
        "## Birds eye view of the course content\n",
        "  - PySpark Dataframes\n",
        "  - Spark MLlib\n",
        "  - Industry Concepts and Best Practices \n",
        "  - All using Real dataseta - no fakes!"
      ],
      "metadata": {
        "id": "VA7zXcXdD6nk"
      }
    },
    {
      "cell_type": "markdown",
      "source": [
        "## Course Curriculum Overview \n",
        "\n",
        "- Introduction to PySpark\n",
        "- Setup Options and Installation Guides \n",
        "- Transitioning from Python to PySpark\n",
        "\n",
        "## Dataframe Essentials \n",
        "\n",
        "- Read, write and Validata Dataframes \n",
        "- Search/Filter DataFrames \n",
        "- Spark SQL Options\n",
        "- Manipulating Data \n",
        "- Aggregating DataFrames \n",
        "- Joining and Appending DataFrames \n",
        "- Handling Missing Data\n",
        "\n",
        "## MLlib \n",
        "\n",
        "- Foundational Knowledge \n",
        "  - Introduction to Machine Learning \n",
        "  - Introduction to MLlib\n",
        "  - Model Selection, Tuning and Cross Validation\n",
        "- Supervised Learning \n",
        "  - Classification Techniques\n",
        "  - Natural language Processing \n",
        "  - Regression Techniques\n",
        "- Un Supervised Learning \n",
        "  - Clustering and Topic Modelling \n",
        "  - Frequent Pattern Mining\n",
        "\n",
        "## Classification and Algorithm Deep learning \n",
        "\n",
        "- Logistic Regression\n",
        "- Binomial Logistic Regression\n",
        "- Multinomial Logistic Regression\n",
        "- Decision Tree Classifier\n",
        "- Random Forest Classifier \n",
        "- Gradient Boosted Tree Classifier\n",
        "- Multi-Layer perception Classifier\n",
        "- Linear Support Vector Machine \n",
        "- One-vs-Rest Classifer\n",
        "- Naive Bayes\n",
        "\n",
        "## Natural Language Processing \n",
        "- Tokenizing \n",
        "- Cleaning Text\n",
        "- Stopword Removal\n",
        "- Vectorizing Options: \n",
        "  - Count Vectors\n",
        "  - TF-IDF\n",
        "  - Word2Vec\n",
        "\n",
        "## Regression\n",
        "- Linear Regression\n",
        "- Decision Tree Regression\n",
        "- Random Forest Regression\n",
        "- Gradient Boosted Tree Regression\n",
        "\n",
        "## Unsupervised Learning \n",
        "\n",
        "- Clustering\n",
        "  - Latent Drichlet Allocation\n",
        "  - K-Means\n",
        "  - Bisecting K-Means\n",
        "  - Gaussian Mixture Model\n",
        "- Frequent Pattern Mining\n",
        "  - FP-Growth (Frequent Pattern Growth)\n",
        "  - Prefix-Span (Sequential Pattern Mining)\n",
        "\n",
        "## Spark Structured Streaming\n",
        "- Overview of Concepts\n",
        "- Simple exmaple using Sockets \n",
        "- Twitter Project Streaming Live data \n"
      ],
      "metadata": {
        "id": "vt4TCbxfEu5w"
      }
    },
    {
      "cell_type": "markdown",
      "source": [
        "# SECTION - 1 : Introduction to PySpark"
      ],
      "metadata": {
        "id": "Va4Lr72aPMM4"
      }
    },
    {
      "cell_type": "markdown",
      "source": [
        "### How is PySpark Different than Python? \n",
        "\n",
        "- Runs on a cluster\n",
        "- Certain Process will look different especially when you get in the Machine learning Libraries \n",
        "- PySpark Does not use Indexing \n",
        "- All Objects in PySpark are Immutable\n",
        "- Error Messags are much less informative \n",
        "- Many of the libraries you are used to using in Python won't function in PySpark"
      ],
      "metadata": {
        "id": "u3vUCIDePlym"
      }
    },
    {
      "cell_type": "markdown",
      "source": [
        "### When does data become Big Data? \n",
        "\n",
        "- Datasets which can fit into your disk are not big data \n",
        "- Your data becoms big - if you are unable to perform simple read and aggregations with your un used computable memory \n",
        "- These data would occupy huge memory space which would require higher processing power such as cloud to maintain and tame them \n"
      ],
      "metadata": {
        "id": "xQXr9e0BQMa6"
      }
    },
    {
      "cell_type": "markdown",
      "source": [
        "## Spark Benefits\n",
        "\n",
        "- Its Written in Scala...but has plenty of API in Scala, Java, Python and R\n",
        "- Spark Utilizes Hadoop in 2 ways \n",
        "  - Storage\n",
        "  - Process handling \n",
        "- Spark is intended to cover an extensive variety of remaining leads, \n",
        "for example, cluster applications, iterative calculations, intuitive questions and streaming\n",
        "\n",
        "***Lazy Computation***\n",
        "\n",
        "Spark Does not execute the transformation untile some action is encountered or cache is encountered"
      ],
      "metadata": {
        "id": "u77p85E_QyQd"
      }
    },
    {
      "cell_type": "markdown",
      "source": [
        "### Spark Core \n",
        "- In charge of Essential IO functionalities \n",
        "- Significant in programming and observing the role of spark cluster \n",
        "- Task Dispatching \n",
        "- Fault Recovery \n",
        "- Over Comes Snag of MapReduce by using In Memory Computation"
      ],
      "metadata": {
        "id": "QygvgqjZQyMj"
      }
    },
    {
      "cell_type": "markdown",
      "source": [
        "### Spark SQL\n",
        "\n",
        "- Distributed framework for structured data processing. \n",
        "- Spark gets more information about the structure of data and the computation. With this information, Spark can perform extra optimization\n",
        "- Great for people who don't know Python, Scala or Java"
      ],
      "metadata": {
        "id": "6aoZhORCQyJs"
      }
    },
    {
      "cell_type": "markdown",
      "source": [
        "## Spark Streaming\n",
        "\n",
        "- An Add-on to core Spark API \n",
        "  - Scalable \n",
        "  - High Throughput \n",
        "  - fault tolerant stream processing of live data streams \n",
        "- Access data from sources like kafka, Flume, Kinesis or TCP Socket \n",
        "- It can operate using various algorithms uses micro-batching"
      ],
      "metadata": {
        "id": "PUTx7Hn9S4I5"
      }
    },
    {
      "cell_type": "markdown",
      "source": [
        "## Spark MLlib\n",
        "\n",
        "- High quality algorithms at high speeds \n",
        "- Make machine learning easy and scalable \n",
        "- Came in Spark Release 2.0 \n",
        "- RDD vs DataFrames"
      ],
      "metadata": {
        "id": "UwrrsZS4S3uk"
      }
    },
    {
      "cell_type": "markdown",
      "source": [
        "## Spark Graph X\n",
        "\n",
        "- API for graphs and graph-parallel computation\n",
        "- Unifies ETL process, Exploratory Analysis and Iterative graph computation within a single system \n",
        "- Useage :  Used for many graphical presentation such as Facebooks friendship network\n",
        "- Industries: disaster detection, banking, stock Market, banking and geographical systems"
      ],
      "metadata": {
        "id": "IZwZU0DrVBCD"
      }
    },
    {
      "cell_type": "markdown",
      "source": [
        "# Transitioning from Python to PySpark\n",
        "\n",
        "**What is diffrent in PySpark?**\n",
        "\n",
        "- Spark MLlib has replaced traditional Python libraries \n",
        "- Dataframes took the place of Pandas DF\n",
        "- Storage Optimization is provided. So you could partition\n",
        "- Lazy Computation\n",
        "- Creating functions\n",
        "\n",
        "**What is same?**\n",
        "\n",
        "- Importing Libraries \n",
        "- General Syntax Style \n",
        "- A Lot of AWS Calls are the same"
      ],
      "metadata": {
        "id": "r3qoasEAVA7U"
      }
    },
    {
      "cell_type": "markdown",
      "source": [
        "# SECTION - 2 : Dataframes Essentials - Read, Write and Validate data"
      ],
      "metadata": {
        "id": "Zl0UeTRMYT8y"
      }
    },
    {
      "cell_type": "markdown",
      "source": [
        "## What are dataframes? \n",
        "\n",
        "Dataframe is data in rows and columns but not persisted in a database table. Rather its a memory level data stored in rows and columns \n"
      ],
      "metadata": {
        "id": "-NlJyeSvYnDL"
      }
    },
    {
      "cell_type": "markdown",
      "source": [
        "## Reading DataFrames in Spark \n",
        "\n",
        "Spark Supports reading file formats such as CSV, JSON, Parquet and Hive\n",
        "It could read from Local system or a Distributed system such as Hadoop or a cloud storage system such as s3. It could also read from external database systems"
      ],
      "metadata": {
        "id": "dXthcxXkZRSY"
      }
    },
    {
      "cell_type": "markdown",
      "source": [
        "## Paritioning Data in PySpark \n",
        "\n",
        "- When it comes to bigdata management, its preferred to parition the files to different sction and store them apart as a parquet files. This reduces the memory space and management \n",
        "- Spark has inbuilt functionalities to manage such partitioned or seperated files. Which is cool!"
      ],
      "metadata": {
        "id": "bTqNilMKZZxg"
      }
    },
    {
      "cell_type": "markdown",
      "source": [
        "### Coding Section!\n",
        "\n",
        "1. Read, Write and Validate Data Frames \n",
        "  - Read, Write Validate \n",
        "  - Exploration DataFrame \n",
        "  - SQL options Spark \n",
        "2. Clean, Manipulate, Join and Aggregate\n",
        "  - Manipulating DF, \n",
        "  - Joining/Appending DataFrames \n",
        "  - Handling Missing Data\n",
        "  - Aggregation DataFrames"
      ],
      "metadata": {
        "id": "uAUKAAysbxZL"
      }
    },
    {
      "cell_type": "markdown",
      "source": [
        "### Spark Session\n",
        "\n",
        "Use these import statements to create a spark session. \n",
        "Using the SparkSession function and the appName function\n",
        "you create an name the session.But its the `getOrCreate()` which created the spark function"
      ],
      "metadata": {
        "id": "FdZ39scbcu9J"
      }
    },
    {
      "cell_type": "code",
      "source": [
        "import pyspark\n",
        "from pyspark.sql import SparkSession\n",
        "\n",
        "spark = SparkSession.builder.appName('ReadWriteVal').getOrCreate()\n",
        "spark"
      ],
      "metadata": {
        "colab": {
          "base_uri": "https://localhost:8080/",
          "height": 219
        },
        "id": "5CqFKVH2Yw6X",
        "outputId": "2f36e851-2bda-4c00-f39b-cf952074cad8"
      },
      "execution_count": 2,
      "outputs": [
        {
          "output_type": "execute_result",
          "data": {
            "text/plain": [
              "<pyspark.sql.session.SparkSession at 0x7f58cecc3f40>"
            ],
            "text/html": [
              "\n",
              "            <div>\n",
              "                <p><b>SparkSession - in-memory</b></p>\n",
              "                \n",
              "        <div>\n",
              "            <p><b>SparkContext</b></p>\n",
              "\n",
              "            <p><a href=\"http://b7ef217b5bf8:4040\">Spark UI</a></p>\n",
              "\n",
              "            <dl>\n",
              "              <dt>Version</dt>\n",
              "                <dd><code>v3.4.0</code></dd>\n",
              "              <dt>Master</dt>\n",
              "                <dd><code>local[*]</code></dd>\n",
              "              <dt>AppName</dt>\n",
              "                <dd><code>ReadWriteVal</code></dd>\n",
              "            </dl>\n",
              "        </div>\n",
              "        \n",
              "            </div>\n",
              "        "
            ]
          },
          "metadata": {},
          "execution_count": 2
        }
      ]
    },
    {
      "cell_type": "markdown",
      "source": [
        "Identifying the number of cores of a spark session"
      ],
      "metadata": {
        "id": "rlBJJma7dF9O"
      }
    },
    {
      "cell_type": "code",
      "source": [
        "cores = spark._jsc.sc().getExecutorMemoryStatus().keySet().size()\n",
        "cores"
      ],
      "metadata": {
        "colab": {
          "base_uri": "https://localhost:8080/"
        },
        "id": "K9l-wCQwcoqn",
        "outputId": "172323e4-6128-4e53-a5c7-90c47ad71f14"
      },
      "execution_count": 4,
      "outputs": [
        {
          "output_type": "execute_result",
          "data": {
            "text/plain": [
              "1"
            ]
          },
          "metadata": {},
          "execution_count": 4
        }
      ]
    },
    {
      "cell_type": "markdown",
      "source": [
        "### Reading a CSV file \n",
        "\n",
        "Use the spark.read function to accomplish the same. \n",
        "You have parameters such as \n",
        "1. `inferSchema( )` - automatically identifies the datatypes of your columns \n",
        "2. `header=True` - automatically picks up the column names with the first row\n"
      ],
      "metadata": {
        "id": "hLPl9KAseJtq"
      }
    },
    {
      "cell_type": "code",
      "source": [
        "student_path = '/content/drive/MyDrive/Python Files and Datasets AS of 16MAY21 2/PySpark DataFrame Essentials/Datasets/students.csv'\n",
        "students = spark.read.csv(student_path, inferSchema=True, header=True)"
      ],
      "metadata": {
        "id": "vhxgcyMudP5-"
      },
      "execution_count": 5,
      "outputs": []
    },
    {
      "cell_type": "code",
      "source": [
        "students.toPandas().head()"
      ],
      "metadata": {
        "colab": {
          "base_uri": "https://localhost:8080/",
          "height": 206
        },
        "id": "toZYqOOEdqBe",
        "outputId": "c209cae1-9f86-4ae6-d53d-8f28e58be4a7"
      },
      "execution_count": 7,
      "outputs": [
        {
          "output_type": "execute_result",
          "data": {
            "text/plain": [
              "   gender race/ethnicity parental level of education         lunch  \\\n",
              "0  female        group B           bachelor's degree      standard   \n",
              "1  female        group C                some college      standard   \n",
              "2  female        group B             master's degree      standard   \n",
              "3    male        group A          associate's degree  free/reduced   \n",
              "4    male        group C                some college      standard   \n",
              "\n",
              "  test preparation course  math score  reading score  writing score  \n",
              "0                    none          72             72             74  \n",
              "1               completed          69             90             88  \n",
              "2                    none          90             95             93  \n",
              "3                    none          47             57             44  \n",
              "4                    none          76             78             75  "
            ],
            "text/html": [
              "\n",
              "  <div id=\"df-18626e6f-0a6e-4c0b-a225-0aa9495cc598\">\n",
              "    <div class=\"colab-df-container\">\n",
              "      <div>\n",
              "<style scoped>\n",
              "    .dataframe tbody tr th:only-of-type {\n",
              "        vertical-align: middle;\n",
              "    }\n",
              "\n",
              "    .dataframe tbody tr th {\n",
              "        vertical-align: top;\n",
              "    }\n",
              "\n",
              "    .dataframe thead th {\n",
              "        text-align: right;\n",
              "    }\n",
              "</style>\n",
              "<table border=\"1\" class=\"dataframe\">\n",
              "  <thead>\n",
              "    <tr style=\"text-align: right;\">\n",
              "      <th></th>\n",
              "      <th>gender</th>\n",
              "      <th>race/ethnicity</th>\n",
              "      <th>parental level of education</th>\n",
              "      <th>lunch</th>\n",
              "      <th>test preparation course</th>\n",
              "      <th>math score</th>\n",
              "      <th>reading score</th>\n",
              "      <th>writing score</th>\n",
              "    </tr>\n",
              "  </thead>\n",
              "  <tbody>\n",
              "    <tr>\n",
              "      <th>0</th>\n",
              "      <td>female</td>\n",
              "      <td>group B</td>\n",
              "      <td>bachelor's degree</td>\n",
              "      <td>standard</td>\n",
              "      <td>none</td>\n",
              "      <td>72</td>\n",
              "      <td>72</td>\n",
              "      <td>74</td>\n",
              "    </tr>\n",
              "    <tr>\n",
              "      <th>1</th>\n",
              "      <td>female</td>\n",
              "      <td>group C</td>\n",
              "      <td>some college</td>\n",
              "      <td>standard</td>\n",
              "      <td>completed</td>\n",
              "      <td>69</td>\n",
              "      <td>90</td>\n",
              "      <td>88</td>\n",
              "    </tr>\n",
              "    <tr>\n",
              "      <th>2</th>\n",
              "      <td>female</td>\n",
              "      <td>group B</td>\n",
              "      <td>master's degree</td>\n",
              "      <td>standard</td>\n",
              "      <td>none</td>\n",
              "      <td>90</td>\n",
              "      <td>95</td>\n",
              "      <td>93</td>\n",
              "    </tr>\n",
              "    <tr>\n",
              "      <th>3</th>\n",
              "      <td>male</td>\n",
              "      <td>group A</td>\n",
              "      <td>associate's degree</td>\n",
              "      <td>free/reduced</td>\n",
              "      <td>none</td>\n",
              "      <td>47</td>\n",
              "      <td>57</td>\n",
              "      <td>44</td>\n",
              "    </tr>\n",
              "    <tr>\n",
              "      <th>4</th>\n",
              "      <td>male</td>\n",
              "      <td>group C</td>\n",
              "      <td>some college</td>\n",
              "      <td>standard</td>\n",
              "      <td>none</td>\n",
              "      <td>76</td>\n",
              "      <td>78</td>\n",
              "      <td>75</td>\n",
              "    </tr>\n",
              "  </tbody>\n",
              "</table>\n",
              "</div>\n",
              "      <button class=\"colab-df-convert\" onclick=\"convertToInteractive('df-18626e6f-0a6e-4c0b-a225-0aa9495cc598')\"\n",
              "              title=\"Convert this dataframe to an interactive table.\"\n",
              "              style=\"display:none;\">\n",
              "        \n",
              "  <svg xmlns=\"http://www.w3.org/2000/svg\" height=\"24px\"viewBox=\"0 0 24 24\"\n",
              "       width=\"24px\">\n",
              "    <path d=\"M0 0h24v24H0V0z\" fill=\"none\"/>\n",
              "    <path d=\"M18.56 5.44l.94 2.06.94-2.06 2.06-.94-2.06-.94-.94-2.06-.94 2.06-2.06.94zm-11 1L8.5 8.5l.94-2.06 2.06-.94-2.06-.94L8.5 2.5l-.94 2.06-2.06.94zm10 10l.94 2.06.94-2.06 2.06-.94-2.06-.94-.94-2.06-.94 2.06-2.06.94z\"/><path d=\"M17.41 7.96l-1.37-1.37c-.4-.4-.92-.59-1.43-.59-.52 0-1.04.2-1.43.59L10.3 9.45l-7.72 7.72c-.78.78-.78 2.05 0 2.83L4 21.41c.39.39.9.59 1.41.59.51 0 1.02-.2 1.41-.59l7.78-7.78 2.81-2.81c.8-.78.8-2.07 0-2.86zM5.41 20L4 18.59l7.72-7.72 1.47 1.35L5.41 20z\"/>\n",
              "  </svg>\n",
              "      </button>\n",
              "      \n",
              "  <style>\n",
              "    .colab-df-container {\n",
              "      display:flex;\n",
              "      flex-wrap:wrap;\n",
              "      gap: 12px;\n",
              "    }\n",
              "\n",
              "    .colab-df-convert {\n",
              "      background-color: #E8F0FE;\n",
              "      border: none;\n",
              "      border-radius: 50%;\n",
              "      cursor: pointer;\n",
              "      display: none;\n",
              "      fill: #1967D2;\n",
              "      height: 32px;\n",
              "      padding: 0 0 0 0;\n",
              "      width: 32px;\n",
              "    }\n",
              "\n",
              "    .colab-df-convert:hover {\n",
              "      background-color: #E2EBFA;\n",
              "      box-shadow: 0px 1px 2px rgba(60, 64, 67, 0.3), 0px 1px 3px 1px rgba(60, 64, 67, 0.15);\n",
              "      fill: #174EA6;\n",
              "    }\n",
              "\n",
              "    [theme=dark] .colab-df-convert {\n",
              "      background-color: #3B4455;\n",
              "      fill: #D2E3FC;\n",
              "    }\n",
              "\n",
              "    [theme=dark] .colab-df-convert:hover {\n",
              "      background-color: #434B5C;\n",
              "      box-shadow: 0px 1px 3px 1px rgba(0, 0, 0, 0.15);\n",
              "      filter: drop-shadow(0px 1px 2px rgba(0, 0, 0, 0.3));\n",
              "      fill: #FFFFFF;\n",
              "    }\n",
              "  </style>\n",
              "\n",
              "      <script>\n",
              "        const buttonEl =\n",
              "          document.querySelector('#df-18626e6f-0a6e-4c0b-a225-0aa9495cc598 button.colab-df-convert');\n",
              "        buttonEl.style.display =\n",
              "          google.colab.kernel.accessAllowed ? 'block' : 'none';\n",
              "\n",
              "        async function convertToInteractive(key) {\n",
              "          const element = document.querySelector('#df-18626e6f-0a6e-4c0b-a225-0aa9495cc598');\n",
              "          const dataTable =\n",
              "            await google.colab.kernel.invokeFunction('convertToInteractive',\n",
              "                                                     [key], {});\n",
              "          if (!dataTable) return;\n",
              "\n",
              "          const docLinkHtml = 'Like what you see? Visit the ' +\n",
              "            '<a target=\"_blank\" href=https://colab.research.google.com/notebooks/data_table.ipynb>data table notebook</a>'\n",
              "            + ' to learn more about interactive tables.';\n",
              "          element.innerHTML = '';\n",
              "          dataTable['output_type'] = 'display_data';\n",
              "          await google.colab.output.renderOutput(dataTable, element);\n",
              "          const docLink = document.createElement('div');\n",
              "          docLink.innerHTML = docLinkHtml;\n",
              "          element.appendChild(docLink);\n",
              "        }\n",
              "      </script>\n",
              "    </div>\n",
              "  </div>\n",
              "  "
            ]
          },
          "metadata": {},
          "execution_count": 7
        }
      ]
    },
    {
      "cell_type": "markdown",
      "source": [
        "`limit(n)` helps in limiting the reading of rows in spark dataframe "
      ],
      "metadata": {
        "id": "CDz1KVvJeiDw"
      }
    },
    {
      "cell_type": "code",
      "source": [
        "students.limit(4).toPandas()"
      ],
      "metadata": {
        "colab": {
          "base_uri": "https://localhost:8080/",
          "height": 175
        },
        "id": "cGKctW5cd1JX",
        "outputId": "6f8bcf90-1fe1-4959-ba38-3022ea320750"
      },
      "execution_count": 8,
      "outputs": [
        {
          "output_type": "execute_result",
          "data": {
            "text/plain": [
              "   gender race/ethnicity parental level of education         lunch  \\\n",
              "0  female        group B           bachelor's degree      standard   \n",
              "1  female        group C                some college      standard   \n",
              "2  female        group B             master's degree      standard   \n",
              "3    male        group A          associate's degree  free/reduced   \n",
              "\n",
              "  test preparation course  math score  reading score  writing score  \n",
              "0                    none          72             72             74  \n",
              "1               completed          69             90             88  \n",
              "2                    none          90             95             93  \n",
              "3                    none          47             57             44  "
            ],
            "text/html": [
              "\n",
              "  <div id=\"df-f60cd895-a42d-460f-9eeb-17b2d0555d1a\">\n",
              "    <div class=\"colab-df-container\">\n",
              "      <div>\n",
              "<style scoped>\n",
              "    .dataframe tbody tr th:only-of-type {\n",
              "        vertical-align: middle;\n",
              "    }\n",
              "\n",
              "    .dataframe tbody tr th {\n",
              "        vertical-align: top;\n",
              "    }\n",
              "\n",
              "    .dataframe thead th {\n",
              "        text-align: right;\n",
              "    }\n",
              "</style>\n",
              "<table border=\"1\" class=\"dataframe\">\n",
              "  <thead>\n",
              "    <tr style=\"text-align: right;\">\n",
              "      <th></th>\n",
              "      <th>gender</th>\n",
              "      <th>race/ethnicity</th>\n",
              "      <th>parental level of education</th>\n",
              "      <th>lunch</th>\n",
              "      <th>test preparation course</th>\n",
              "      <th>math score</th>\n",
              "      <th>reading score</th>\n",
              "      <th>writing score</th>\n",
              "    </tr>\n",
              "  </thead>\n",
              "  <tbody>\n",
              "    <tr>\n",
              "      <th>0</th>\n",
              "      <td>female</td>\n",
              "      <td>group B</td>\n",
              "      <td>bachelor's degree</td>\n",
              "      <td>standard</td>\n",
              "      <td>none</td>\n",
              "      <td>72</td>\n",
              "      <td>72</td>\n",
              "      <td>74</td>\n",
              "    </tr>\n",
              "    <tr>\n",
              "      <th>1</th>\n",
              "      <td>female</td>\n",
              "      <td>group C</td>\n",
              "      <td>some college</td>\n",
              "      <td>standard</td>\n",
              "      <td>completed</td>\n",
              "      <td>69</td>\n",
              "      <td>90</td>\n",
              "      <td>88</td>\n",
              "    </tr>\n",
              "    <tr>\n",
              "      <th>2</th>\n",
              "      <td>female</td>\n",
              "      <td>group B</td>\n",
              "      <td>master's degree</td>\n",
              "      <td>standard</td>\n",
              "      <td>none</td>\n",
              "      <td>90</td>\n",
              "      <td>95</td>\n",
              "      <td>93</td>\n",
              "    </tr>\n",
              "    <tr>\n",
              "      <th>3</th>\n",
              "      <td>male</td>\n",
              "      <td>group A</td>\n",
              "      <td>associate's degree</td>\n",
              "      <td>free/reduced</td>\n",
              "      <td>none</td>\n",
              "      <td>47</td>\n",
              "      <td>57</td>\n",
              "      <td>44</td>\n",
              "    </tr>\n",
              "  </tbody>\n",
              "</table>\n",
              "</div>\n",
              "      <button class=\"colab-df-convert\" onclick=\"convertToInteractive('df-f60cd895-a42d-460f-9eeb-17b2d0555d1a')\"\n",
              "              title=\"Convert this dataframe to an interactive table.\"\n",
              "              style=\"display:none;\">\n",
              "        \n",
              "  <svg xmlns=\"http://www.w3.org/2000/svg\" height=\"24px\"viewBox=\"0 0 24 24\"\n",
              "       width=\"24px\">\n",
              "    <path d=\"M0 0h24v24H0V0z\" fill=\"none\"/>\n",
              "    <path d=\"M18.56 5.44l.94 2.06.94-2.06 2.06-.94-2.06-.94-.94-2.06-.94 2.06-2.06.94zm-11 1L8.5 8.5l.94-2.06 2.06-.94-2.06-.94L8.5 2.5l-.94 2.06-2.06.94zm10 10l.94 2.06.94-2.06 2.06-.94-2.06-.94-.94-2.06-.94 2.06-2.06.94z\"/><path d=\"M17.41 7.96l-1.37-1.37c-.4-.4-.92-.59-1.43-.59-.52 0-1.04.2-1.43.59L10.3 9.45l-7.72 7.72c-.78.78-.78 2.05 0 2.83L4 21.41c.39.39.9.59 1.41.59.51 0 1.02-.2 1.41-.59l7.78-7.78 2.81-2.81c.8-.78.8-2.07 0-2.86zM5.41 20L4 18.59l7.72-7.72 1.47 1.35L5.41 20z\"/>\n",
              "  </svg>\n",
              "      </button>\n",
              "      \n",
              "  <style>\n",
              "    .colab-df-container {\n",
              "      display:flex;\n",
              "      flex-wrap:wrap;\n",
              "      gap: 12px;\n",
              "    }\n",
              "\n",
              "    .colab-df-convert {\n",
              "      background-color: #E8F0FE;\n",
              "      border: none;\n",
              "      border-radius: 50%;\n",
              "      cursor: pointer;\n",
              "      display: none;\n",
              "      fill: #1967D2;\n",
              "      height: 32px;\n",
              "      padding: 0 0 0 0;\n",
              "      width: 32px;\n",
              "    }\n",
              "\n",
              "    .colab-df-convert:hover {\n",
              "      background-color: #E2EBFA;\n",
              "      box-shadow: 0px 1px 2px rgba(60, 64, 67, 0.3), 0px 1px 3px 1px rgba(60, 64, 67, 0.15);\n",
              "      fill: #174EA6;\n",
              "    }\n",
              "\n",
              "    [theme=dark] .colab-df-convert {\n",
              "      background-color: #3B4455;\n",
              "      fill: #D2E3FC;\n",
              "    }\n",
              "\n",
              "    [theme=dark] .colab-df-convert:hover {\n",
              "      background-color: #434B5C;\n",
              "      box-shadow: 0px 1px 3px 1px rgba(0, 0, 0, 0.15);\n",
              "      filter: drop-shadow(0px 1px 2px rgba(0, 0, 0, 0.3));\n",
              "      fill: #FFFFFF;\n",
              "    }\n",
              "  </style>\n",
              "\n",
              "      <script>\n",
              "        const buttonEl =\n",
              "          document.querySelector('#df-f60cd895-a42d-460f-9eeb-17b2d0555d1a button.colab-df-convert');\n",
              "        buttonEl.style.display =\n",
              "          google.colab.kernel.accessAllowed ? 'block' : 'none';\n",
              "\n",
              "        async function convertToInteractive(key) {\n",
              "          const element = document.querySelector('#df-f60cd895-a42d-460f-9eeb-17b2d0555d1a');\n",
              "          const dataTable =\n",
              "            await google.colab.kernel.invokeFunction('convertToInteractive',\n",
              "                                                     [key], {});\n",
              "          if (!dataTable) return;\n",
              "\n",
              "          const docLinkHtml = 'Like what you see? Visit the ' +\n",
              "            '<a target=\"_blank\" href=https://colab.research.google.com/notebooks/data_table.ipynb>data table notebook</a>'\n",
              "            + ' to learn more about interactive tables.';\n",
              "          element.innerHTML = '';\n",
              "          dataTable['output_type'] = 'display_data';\n",
              "          await google.colab.output.renderOutput(dataTable, element);\n",
              "          const docLink = document.createElement('div');\n",
              "          docLink.innerHTML = docLinkHtml;\n",
              "          element.appendChild(docLink);\n",
              "        }\n",
              "      </script>\n",
              "    </div>\n",
              "  </div>\n",
              "  "
            ]
          },
          "metadata": {},
          "execution_count": 8
        }
      ]
    },
    {
      "cell_type": "markdown",
      "source": [
        "### Reading and Loading Parquet file\n",
        "\n",
        "Parquet files are simple data files. the deal is you cant read them with an UI. \n",
        "You only have the options to read them from a code. So basically the meta data \n",
        "for reading the file using an UI is removed giving it less weight. \n",
        "\n",
        "use the `spark.read.parquet(file_path)` to read your file"
      ],
      "metadata": {
        "id": "IoNRIkcdepNb"
      }
    },
    {
      "cell_type": "code",
      "source": [
        "parquet_path = '/content/drive/MyDrive/Python Files and Datasets AS of 16MAY21 2/PySpark DataFrame Essentials/Datasets/users1.parquet'\n",
        "patitioned_file = spark.read.parquet(parquet_path)\n",
        "patitioned_file.limit(4).toPandas()"
      ],
      "metadata": {
        "colab": {
          "base_uri": "https://localhost:8080/",
          "height": 230
        },
        "id": "1AyrTAoVd-n1",
        "outputId": "71ad9673-552c-454a-dd05-11fa255a5394"
      },
      "execution_count": 9,
      "outputs": [
        {
          "output_type": "stream",
          "name": "stderr",
          "text": [
            "/usr/local/lib/python3.9/dist-packages/pyspark/sql/pandas/conversion.py:251: FutureWarning: Passing unit-less datetime64 dtype to .astype is deprecated and will raise in a future version. Pass 'datetime64[ns]' instead\n",
            "  series = series.astype(t, copy=False)\n"
          ]
        },
        {
          "output_type": "execute_result",
          "data": {
            "text/plain": [
              "    registration_dttm  id first_name last_name                    email  \\\n",
              "0 2016-02-03 07:55:29   1     Amanda    Jordan         ajordan0@com.com   \n",
              "1 2016-02-03 17:04:03   2     Albert   Freeman          afreeman1@is.gd   \n",
              "2 2016-02-03 01:09:31   3     Evelyn    Morgan  emorgan2@altervista.org   \n",
              "3 2016-02-03 00:36:21   4     Denise     Riley         driley3@gmpg.org   \n",
              "\n",
              "   gender      ip_address                cc    country  birthdate     salary  \\\n",
              "0  Female     1.197.201.2  6759521864920116  Indonesia   3/8/1971   49756.53   \n",
              "1    Male  218.111.175.34                       Canada  1/16/1968  150280.17   \n",
              "2  Female    7.161.136.94  6767119071901597     Russia   2/1/1960  144972.51   \n",
              "3  Female   140.35.109.83  3576031598965625      China   4/8/1997   90263.05   \n",
              "\n",
              "                    title comments  \n",
              "0        Internal Auditor    1E+02  \n",
              "1           Accountant IV           \n",
              "2     Structural Engineer           \n",
              "3  Senior Cost Accountant           "
            ],
            "text/html": [
              "\n",
              "  <div id=\"df-096a1d4f-bbe0-4237-a196-958ac5010389\">\n",
              "    <div class=\"colab-df-container\">\n",
              "      <div>\n",
              "<style scoped>\n",
              "    .dataframe tbody tr th:only-of-type {\n",
              "        vertical-align: middle;\n",
              "    }\n",
              "\n",
              "    .dataframe tbody tr th {\n",
              "        vertical-align: top;\n",
              "    }\n",
              "\n",
              "    .dataframe thead th {\n",
              "        text-align: right;\n",
              "    }\n",
              "</style>\n",
              "<table border=\"1\" class=\"dataframe\">\n",
              "  <thead>\n",
              "    <tr style=\"text-align: right;\">\n",
              "      <th></th>\n",
              "      <th>registration_dttm</th>\n",
              "      <th>id</th>\n",
              "      <th>first_name</th>\n",
              "      <th>last_name</th>\n",
              "      <th>email</th>\n",
              "      <th>gender</th>\n",
              "      <th>ip_address</th>\n",
              "      <th>cc</th>\n",
              "      <th>country</th>\n",
              "      <th>birthdate</th>\n",
              "      <th>salary</th>\n",
              "      <th>title</th>\n",
              "      <th>comments</th>\n",
              "    </tr>\n",
              "  </thead>\n",
              "  <tbody>\n",
              "    <tr>\n",
              "      <th>0</th>\n",
              "      <td>2016-02-03 07:55:29</td>\n",
              "      <td>1</td>\n",
              "      <td>Amanda</td>\n",
              "      <td>Jordan</td>\n",
              "      <td>ajordan0@com.com</td>\n",
              "      <td>Female</td>\n",
              "      <td>1.197.201.2</td>\n",
              "      <td>6759521864920116</td>\n",
              "      <td>Indonesia</td>\n",
              "      <td>3/8/1971</td>\n",
              "      <td>49756.53</td>\n",
              "      <td>Internal Auditor</td>\n",
              "      <td>1E+02</td>\n",
              "    </tr>\n",
              "    <tr>\n",
              "      <th>1</th>\n",
              "      <td>2016-02-03 17:04:03</td>\n",
              "      <td>2</td>\n",
              "      <td>Albert</td>\n",
              "      <td>Freeman</td>\n",
              "      <td>afreeman1@is.gd</td>\n",
              "      <td>Male</td>\n",
              "      <td>218.111.175.34</td>\n",
              "      <td></td>\n",
              "      <td>Canada</td>\n",
              "      <td>1/16/1968</td>\n",
              "      <td>150280.17</td>\n",
              "      <td>Accountant IV</td>\n",
              "      <td></td>\n",
              "    </tr>\n",
              "    <tr>\n",
              "      <th>2</th>\n",
              "      <td>2016-02-03 01:09:31</td>\n",
              "      <td>3</td>\n",
              "      <td>Evelyn</td>\n",
              "      <td>Morgan</td>\n",
              "      <td>emorgan2@altervista.org</td>\n",
              "      <td>Female</td>\n",
              "      <td>7.161.136.94</td>\n",
              "      <td>6767119071901597</td>\n",
              "      <td>Russia</td>\n",
              "      <td>2/1/1960</td>\n",
              "      <td>144972.51</td>\n",
              "      <td>Structural Engineer</td>\n",
              "      <td></td>\n",
              "    </tr>\n",
              "    <tr>\n",
              "      <th>3</th>\n",
              "      <td>2016-02-03 00:36:21</td>\n",
              "      <td>4</td>\n",
              "      <td>Denise</td>\n",
              "      <td>Riley</td>\n",
              "      <td>driley3@gmpg.org</td>\n",
              "      <td>Female</td>\n",
              "      <td>140.35.109.83</td>\n",
              "      <td>3576031598965625</td>\n",
              "      <td>China</td>\n",
              "      <td>4/8/1997</td>\n",
              "      <td>90263.05</td>\n",
              "      <td>Senior Cost Accountant</td>\n",
              "      <td></td>\n",
              "    </tr>\n",
              "  </tbody>\n",
              "</table>\n",
              "</div>\n",
              "      <button class=\"colab-df-convert\" onclick=\"convertToInteractive('df-096a1d4f-bbe0-4237-a196-958ac5010389')\"\n",
              "              title=\"Convert this dataframe to an interactive table.\"\n",
              "              style=\"display:none;\">\n",
              "        \n",
              "  <svg xmlns=\"http://www.w3.org/2000/svg\" height=\"24px\"viewBox=\"0 0 24 24\"\n",
              "       width=\"24px\">\n",
              "    <path d=\"M0 0h24v24H0V0z\" fill=\"none\"/>\n",
              "    <path d=\"M18.56 5.44l.94 2.06.94-2.06 2.06-.94-2.06-.94-.94-2.06-.94 2.06-2.06.94zm-11 1L8.5 8.5l.94-2.06 2.06-.94-2.06-.94L8.5 2.5l-.94 2.06-2.06.94zm10 10l.94 2.06.94-2.06 2.06-.94-2.06-.94-.94-2.06-.94 2.06-2.06.94z\"/><path d=\"M17.41 7.96l-1.37-1.37c-.4-.4-.92-.59-1.43-.59-.52 0-1.04.2-1.43.59L10.3 9.45l-7.72 7.72c-.78.78-.78 2.05 0 2.83L4 21.41c.39.39.9.59 1.41.59.51 0 1.02-.2 1.41-.59l7.78-7.78 2.81-2.81c.8-.78.8-2.07 0-2.86zM5.41 20L4 18.59l7.72-7.72 1.47 1.35L5.41 20z\"/>\n",
              "  </svg>\n",
              "      </button>\n",
              "      \n",
              "  <style>\n",
              "    .colab-df-container {\n",
              "      display:flex;\n",
              "      flex-wrap:wrap;\n",
              "      gap: 12px;\n",
              "    }\n",
              "\n",
              "    .colab-df-convert {\n",
              "      background-color: #E8F0FE;\n",
              "      border: none;\n",
              "      border-radius: 50%;\n",
              "      cursor: pointer;\n",
              "      display: none;\n",
              "      fill: #1967D2;\n",
              "      height: 32px;\n",
              "      padding: 0 0 0 0;\n",
              "      width: 32px;\n",
              "    }\n",
              "\n",
              "    .colab-df-convert:hover {\n",
              "      background-color: #E2EBFA;\n",
              "      box-shadow: 0px 1px 2px rgba(60, 64, 67, 0.3), 0px 1px 3px 1px rgba(60, 64, 67, 0.15);\n",
              "      fill: #174EA6;\n",
              "    }\n",
              "\n",
              "    [theme=dark] .colab-df-convert {\n",
              "      background-color: #3B4455;\n",
              "      fill: #D2E3FC;\n",
              "    }\n",
              "\n",
              "    [theme=dark] .colab-df-convert:hover {\n",
              "      background-color: #434B5C;\n",
              "      box-shadow: 0px 1px 3px 1px rgba(0, 0, 0, 0.15);\n",
              "      filter: drop-shadow(0px 1px 2px rgba(0, 0, 0, 0.3));\n",
              "      fill: #FFFFFF;\n",
              "    }\n",
              "  </style>\n",
              "\n",
              "      <script>\n",
              "        const buttonEl =\n",
              "          document.querySelector('#df-096a1d4f-bbe0-4237-a196-958ac5010389 button.colab-df-convert');\n",
              "        buttonEl.style.display =\n",
              "          google.colab.kernel.accessAllowed ? 'block' : 'none';\n",
              "\n",
              "        async function convertToInteractive(key) {\n",
              "          const element = document.querySelector('#df-096a1d4f-bbe0-4237-a196-958ac5010389');\n",
              "          const dataTable =\n",
              "            await google.colab.kernel.invokeFunction('convertToInteractive',\n",
              "                                                     [key], {});\n",
              "          if (!dataTable) return;\n",
              "\n",
              "          const docLinkHtml = 'Like what you see? Visit the ' +\n",
              "            '<a target=\"_blank\" href=https://colab.research.google.com/notebooks/data_table.ipynb>data table notebook</a>'\n",
              "            + ' to learn more about interactive tables.';\n",
              "          element.innerHTML = '';\n",
              "          dataTable['output_type'] = 'display_data';\n",
              "          await google.colab.output.renderOutput(dataTable, element);\n",
              "          const docLink = document.createElement('div');\n",
              "          docLink.innerHTML = docLinkHtml;\n",
              "          element.appendChild(docLink);\n",
              "        }\n",
              "      </script>\n",
              "    </div>\n",
              "  </div>\n",
              "  "
            ]
          },
          "metadata": {},
          "execution_count": 9
        }
      ]
    },
    {
      "cell_type": "code",
      "source": [],
      "metadata": {
        "id": "v-7eJx0YfbXP"
      },
      "execution_count": null,
      "outputs": []
    }
  ]
}