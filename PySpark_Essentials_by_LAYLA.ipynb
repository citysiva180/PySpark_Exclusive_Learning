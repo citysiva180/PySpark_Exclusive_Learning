{
  "nbformat": 4,
  "nbformat_minor": 0,
  "metadata": {
    "colab": {
      "provenance": [],
      "mount_file_id": "1znNN3wolGhYdmq5mYXbme1_QtRO9VbrV",
      "authorship_tag": "ABX9TyN0ig+z+eZbXQqr0e0axez5",
      "include_colab_link": true
    },
    "kernelspec": {
      "name": "python3",
      "display_name": "Python 3"
    },
    "language_info": {
      "name": "python"
    }
  },
  "cells": [
    {
      "cell_type": "markdown",
      "metadata": {
        "id": "view-in-github",
        "colab_type": "text"
      },
      "source": [
        "<a href=\"https://colab.research.google.com/github/citysiva180/PySpark_Exclusive_Learning/blob/main/PySpark_Essentials_by_LAYLA.ipynb\" target=\"_parent\"><img src=\"https://colab.research.google.com/assets/colab-badge.svg\" alt=\"Open In Colab\"/></a>"
      ]
    },
    {
      "cell_type": "code",
      "execution_count": 2,
      "metadata": {
        "colab": {
          "base_uri": "https://localhost:8080/"
        },
        "id": "ORIFqz0yC3Wm",
        "outputId": "297e5563-bd36-49f4-e26e-281646bbf742"
      },
      "outputs": [
        {
          "output_type": "stream",
          "name": "stdout",
          "text": [
            "Looking in indexes: https://pypi.org/simple, https://us-python.pkg.dev/colab-wheels/public/simple/\n",
            "Collecting pyspark\n",
            "  Downloading pyspark-3.4.0.tar.gz (310.8 MB)\n",
            "\u001b[2K     \u001b[90m━━━━━━━━━━━━━━━━━━━━━━━━━━━━━━━━━━━━━━━\u001b[0m \u001b[32m310.8/310.8 MB\u001b[0m \u001b[31m4.9 MB/s\u001b[0m eta \u001b[36m0:00:00\u001b[0m\n",
            "\u001b[?25h  Preparing metadata (setup.py) ... \u001b[?25l\u001b[?25hdone\n",
            "Requirement already satisfied: py4j==0.10.9.7 in /usr/local/lib/python3.10/dist-packages (from pyspark) (0.10.9.7)\n",
            "Building wheels for collected packages: pyspark\n",
            "  Building wheel for pyspark (setup.py) ... \u001b[?25l\u001b[?25hdone\n",
            "  Created wheel for pyspark: filename=pyspark-3.4.0-py2.py3-none-any.whl size=311317145 sha256=069dca2646d5752007d4cb4c302fba8be9042bd1c660b6943fd02195998dd76a\n",
            "  Stored in directory: /root/.cache/pip/wheels/7b/1b/4b/3363a1d04368e7ff0d408e57ff57966fcdf00583774e761327\n",
            "Successfully built pyspark\n",
            "Installing collected packages: pyspark\n",
            "Successfully installed pyspark-3.4.0\n"
          ]
        }
      ],
      "source": [
        "!pip install pyspark"
      ]
    },
    {
      "cell_type": "markdown",
      "source": [
        "## Birds eye view of the course content\n",
        "  - PySpark Dataframes\n",
        "  - Spark MLlib\n",
        "  - Industry Concepts and Best Practices \n",
        "  - All using Real dataseta - no fakes!"
      ],
      "metadata": {
        "id": "VA7zXcXdD6nk"
      }
    },
    {
      "cell_type": "markdown",
      "source": [
        "## Course Curriculum Overview \n",
        "\n",
        "- Introduction to PySpark\n",
        "- Setup Options and Installation Guides \n",
        "- Transitioning from Python to PySpark\n",
        "\n",
        "## Dataframe Essentials \n",
        "\n",
        "- Read, write and Validata Dataframes \n",
        "- Search/Filter DataFrames \n",
        "- Spark SQL Options\n",
        "- Manipulating Data \n",
        "- Aggregating DataFrames \n",
        "- Joining and Appending DataFrames \n",
        "- Handling Missing Data\n",
        "\n",
        "## MLlib \n",
        "\n",
        "- Foundational Knowledge \n",
        "  - Introduction to Machine Learning \n",
        "  - Introduction to MLlib\n",
        "  - Model Selection, Tuning and Cross Validation\n",
        "- Supervised Learning \n",
        "  - Classification Techniques\n",
        "  - Natural language Processing \n",
        "  - Regression Techniques\n",
        "- Un Supervised Learning \n",
        "  - Clustering and Topic Modelling \n",
        "  - Frequent Pattern Mining\n",
        "\n",
        "## Classification and Algorithm Deep learning \n",
        "\n",
        "- Logistic Regression\n",
        "- Binomial Logistic Regression\n",
        "- Multinomial Logistic Regression\n",
        "- Decision Tree Classifier\n",
        "- Random Forest Classifier \n",
        "- Gradient Boosted Tree Classifier\n",
        "- Multi-Layer perception Classifier\n",
        "- Linear Support Vector Machine \n",
        "- One-vs-Rest Classifer\n",
        "- Naive Bayes\n",
        "\n",
        "## Natural Language Processing \n",
        "- Tokenizing \n",
        "- Cleaning Text\n",
        "- Stopword Removal\n",
        "- Vectorizing Options: \n",
        "  - Count Vectors\n",
        "  - TF-IDF\n",
        "  - Word2Vec\n",
        "\n",
        "## Regression\n",
        "- Linear Regression\n",
        "- Decision Tree Regression\n",
        "- Random Forest Regression\n",
        "- Gradient Boosted Tree Regression\n",
        "\n",
        "## Unsupervised Learning \n",
        "\n",
        "- Clustering\n",
        "  - Latent Drichlet Allocation\n",
        "  - K-Means\n",
        "  - Bisecting K-Means\n",
        "  - Gaussian Mixture Model\n",
        "- Frequent Pattern Mining\n",
        "  - FP-Growth (Frequent Pattern Growth)\n",
        "  - Prefix-Span (Sequential Pattern Mining)\n",
        "\n",
        "## Spark Structured Streaming\n",
        "- Overview of Concepts\n",
        "- Simple exmaple using Sockets \n",
        "- Twitter Project Streaming Live data \n"
      ],
      "metadata": {
        "id": "vt4TCbxfEu5w"
      }
    },
    {
      "cell_type": "markdown",
      "source": [
        "# SECTION - 1 : Introduction to PySpark"
      ],
      "metadata": {
        "id": "Va4Lr72aPMM4"
      }
    },
    {
      "cell_type": "markdown",
      "source": [
        "### How is PySpark Different than Python? \n",
        "\n",
        "- Runs on a cluster\n",
        "- Certain Process will look different especially when you get in the Machine learning Libraries \n",
        "- PySpark Does not use Indexing \n",
        "- All Objects in PySpark are Immutable\n",
        "- Error Messags are much less informative \n",
        "- Many of the libraries you are used to using in Python won't function in PySpark"
      ],
      "metadata": {
        "id": "u3vUCIDePlym"
      }
    },
    {
      "cell_type": "markdown",
      "source": [
        "### When does data become Big Data? \n",
        "\n",
        "- Datasets which can fit into your disk are not big data \n",
        "- Your data becoms big - if you are unable to perform simple read and aggregations with your un used computable memory \n",
        "- These data would occupy huge memory space which would require higher processing power such as cloud to maintain and tame them \n"
      ],
      "metadata": {
        "id": "xQXr9e0BQMa6"
      }
    },
    {
      "cell_type": "markdown",
      "source": [
        "## Spark Benefits\n",
        "\n",
        "- Its Written in Scala...but has plenty of API in Scala, Java, Python and R\n",
        "- Spark Utilizes Hadoop in 2 ways \n",
        "  - Storage\n",
        "  - Process handling \n",
        "- Spark is intended to cover an extensive variety of remaining leads, \n",
        "for example, cluster applications, iterative calculations, intuitive questions and streaming\n",
        "\n",
        "***Lazy Computation***\n",
        "\n",
        "Spark Does not execute the transformation untile some action is encountered or cache is encountered"
      ],
      "metadata": {
        "id": "u77p85E_QyQd"
      }
    },
    {
      "cell_type": "markdown",
      "source": [
        "### Spark Core \n",
        "- In charge of Essential IO functionalities \n",
        "- Significant in programming and observing the role of spark cluster \n",
        "- Task Dispatching \n",
        "- Fault Recovery \n",
        "- Over Comes Snag of MapReduce by using In Memory Computation"
      ],
      "metadata": {
        "id": "QygvgqjZQyMj"
      }
    },
    {
      "cell_type": "markdown",
      "source": [
        "### Spark SQL\n",
        "\n",
        "- Distributed framework for structured data processing. \n",
        "- Spark gets more information about the structure of data and the computation. With this information, Spark can perform extra optimization\n",
        "- Great for people who don't know Python, Scala or Java"
      ],
      "metadata": {
        "id": "6aoZhORCQyJs"
      }
    },
    {
      "cell_type": "markdown",
      "source": [
        "## Spark Streaming\n",
        "\n",
        "- An Add-on to core Spark API \n",
        "  - Scalable \n",
        "  - High Throughput \n",
        "  - fault tolerant stream processing of live data streams \n",
        "- Access data from sources like kafka, Flume, Kinesis or TCP Socket \n",
        "- It can operate using various algorithms uses micro-batching"
      ],
      "metadata": {
        "id": "PUTx7Hn9S4I5"
      }
    },
    {
      "cell_type": "markdown",
      "source": [
        "## Spark MLlib\n",
        "\n",
        "- High quality algorithms at high speeds \n",
        "- Make machine learning easy and scalable \n",
        "- Came in Spark Release 2.0 \n",
        "- RDD vs DataFrames"
      ],
      "metadata": {
        "id": "UwrrsZS4S3uk"
      }
    },
    {
      "cell_type": "markdown",
      "source": [
        "## Spark Graph X\n",
        "\n",
        "- API for graphs and graph-parallel computation\n",
        "- Unifies ETL process, Exploratory Analysis and Iterative graph computation within a single system \n",
        "- Useage :  Used for many graphical presentation such as Facebooks friendship network\n",
        "- Industries: disaster detection, banking, stock Market, banking and geographical systems"
      ],
      "metadata": {
        "id": "IZwZU0DrVBCD"
      }
    },
    {
      "cell_type": "markdown",
      "source": [
        "# Transitioning from Python to PySpark\n",
        "\n",
        "**What is diffrent in PySpark?**\n",
        "\n",
        "- Spark MLlib has replaced traditional Python libraries \n",
        "- Dataframes took the place of Pandas DF\n",
        "- Storage Optimization is provided. So you could partition\n",
        "- Lazy Computation\n",
        "- Creating functions\n",
        "\n",
        "**What is same?**\n",
        "\n",
        "- Importing Libraries \n",
        "- General Syntax Style \n",
        "- A Lot of AWS Calls are the same"
      ],
      "metadata": {
        "id": "r3qoasEAVA7U"
      }
    },
    {
      "cell_type": "markdown",
      "source": [
        "# SECTION - 2 : Dataframes Essentials - Read, Write and Validate data"
      ],
      "metadata": {
        "id": "Zl0UeTRMYT8y"
      }
    },
    {
      "cell_type": "markdown",
      "source": [
        "## What are dataframes? \n",
        "\n",
        "Dataframe is data in rows and columns but not persisted in a database table. Rather its a memory level data stored in rows and columns \n"
      ],
      "metadata": {
        "id": "-NlJyeSvYnDL"
      }
    },
    {
      "cell_type": "markdown",
      "source": [
        "## Reading DataFrames in Spark \n",
        "\n",
        "Spark Supports reading file formats such as CSV, JSON, Parquet and Hive\n",
        "It could read from Local system or a Distributed system such as Hadoop or a cloud storage system such as s3. It could also read from external database systems"
      ],
      "metadata": {
        "id": "dXthcxXkZRSY"
      }
    },
    {
      "cell_type": "markdown",
      "source": [
        "## Paritioning Data in PySpark \n",
        "\n",
        "- When it comes to bigdata management, its preferred to parition the files to different sction and store them apart as a parquet files. This reduces the memory space and management \n",
        "- Spark has inbuilt functionalities to manage such partitioned or seperated files. Which is cool!"
      ],
      "metadata": {
        "id": "bTqNilMKZZxg"
      }
    },
    {
      "cell_type": "markdown",
      "source": [
        "### Coding Section!\n",
        "\n",
        "1. Read, Write and Validate Data Frames \n",
        "  - Read, Write Validate \n",
        "  - Exploration DataFrame \n",
        "  - SQL options Spark \n",
        "2. Clean, Manipulate, Join and Aggregate\n",
        "  - Manipulating DF, \n",
        "  - Joining/Appending DataFrames \n",
        "  - Handling Missing Data\n",
        "  - Aggregation DataFrames"
      ],
      "metadata": {
        "id": "uAUKAAysbxZL"
      }
    },
    {
      "cell_type": "markdown",
      "source": [
        "### Spark Session\n",
        "\n",
        "Use these import statements to create a spark session. \n",
        "Using the SparkSession function and the appName function\n",
        "you create an name the session.But its the `getOrCreate()` which created the spark function"
      ],
      "metadata": {
        "id": "FdZ39scbcu9J"
      }
    },
    {
      "cell_type": "code",
      "source": [
        "import pyspark\n",
        "from pyspark.sql import SparkSession\n",
        "\n",
        "spark = SparkSession.builder.appName('ReadWriteVal').getOrCreate()\n",
        "spark"
      ],
      "metadata": {
        "colab": {
          "base_uri": "https://localhost:8080/",
          "height": 221
        },
        "id": "5CqFKVH2Yw6X",
        "outputId": "d99d9def-5e2a-45e7-a50d-6213d8a2013d"
      },
      "execution_count": 3,
      "outputs": [
        {
          "output_type": "execute_result",
          "data": {
            "text/plain": [
              "<pyspark.sql.session.SparkSession at 0x7f6f04faefb0>"
            ],
            "text/html": [
              "\n",
              "            <div>\n",
              "                <p><b>SparkSession - in-memory</b></p>\n",
              "                \n",
              "        <div>\n",
              "            <p><b>SparkContext</b></p>\n",
              "\n",
              "            <p><a href=\"http://f7a08509c081:4040\">Spark UI</a></p>\n",
              "\n",
              "            <dl>\n",
              "              <dt>Version</dt>\n",
              "                <dd><code>v3.4.0</code></dd>\n",
              "              <dt>Master</dt>\n",
              "                <dd><code>local[*]</code></dd>\n",
              "              <dt>AppName</dt>\n",
              "                <dd><code>ReadWriteVal</code></dd>\n",
              "            </dl>\n",
              "        </div>\n",
              "        \n",
              "            </div>\n",
              "        "
            ]
          },
          "metadata": {},
          "execution_count": 3
        }
      ]
    },
    {
      "cell_type": "markdown",
      "source": [
        "Identifying the number of cores of a spark session"
      ],
      "metadata": {
        "id": "rlBJJma7dF9O"
      }
    },
    {
      "cell_type": "code",
      "source": [
        "cores = spark._jsc.sc().getExecutorMemoryStatus().keySet().size()\n",
        "cores"
      ],
      "metadata": {
        "colab": {
          "base_uri": "https://localhost:8080/"
        },
        "id": "K9l-wCQwcoqn",
        "outputId": "6fa2337e-89b8-4b82-d11c-87a9b56430a4"
      },
      "execution_count": 4,
      "outputs": [
        {
          "output_type": "execute_result",
          "data": {
            "text/plain": [
              "1"
            ]
          },
          "metadata": {},
          "execution_count": 4
        }
      ]
    },
    {
      "cell_type": "markdown",
      "source": [
        "### Reading a CSV file \n",
        "\n",
        "Use the spark.read function to accomplish the same. \n",
        "You have parameters such as \n",
        "1. `inferSchema( )` - automatically identifies the datatypes of your columns \n",
        "2. `header=True` - automatically picks up the column names with the first row\n"
      ],
      "metadata": {
        "id": "hLPl9KAseJtq"
      }
    },
    {
      "cell_type": "code",
      "source": [
        "student_path = '/content/drive/MyDrive/Python Files and Datasets AS of 16MAY21 2/PySpark DataFrame Essentials/Datasets/students.csv'\n",
        "students = spark.read.csv(student_path, inferSchema=True, header=True)"
      ],
      "metadata": {
        "id": "vhxgcyMudP5-"
      },
      "execution_count": 5,
      "outputs": []
    },
    {
      "cell_type": "code",
      "source": [
        "students.toPandas().head()"
      ],
      "metadata": {
        "colab": {
          "base_uri": "https://localhost:8080/",
          "height": 206
        },
        "id": "toZYqOOEdqBe",
        "outputId": "a02748e6-8295-4e03-e979-7240b52d101e"
      },
      "execution_count": 6,
      "outputs": [
        {
          "output_type": "execute_result",
          "data": {
            "text/plain": [
              "   gender race/ethnicity parental level of education         lunch  \\\n",
              "0  female        group B           bachelor's degree      standard   \n",
              "1  female        group C                some college      standard   \n",
              "2  female        group B             master's degree      standard   \n",
              "3    male        group A          associate's degree  free/reduced   \n",
              "4    male        group C                some college      standard   \n",
              "\n",
              "  test preparation course  math score  reading score  writing score  \n",
              "0                    none          72             72             74  \n",
              "1               completed          69             90             88  \n",
              "2                    none          90             95             93  \n",
              "3                    none          47             57             44  \n",
              "4                    none          76             78             75  "
            ],
            "text/html": [
              "\n",
              "  <div id=\"df-76a7dfab-b686-4079-9595-356dabf3013c\">\n",
              "    <div class=\"colab-df-container\">\n",
              "      <div>\n",
              "<style scoped>\n",
              "    .dataframe tbody tr th:only-of-type {\n",
              "        vertical-align: middle;\n",
              "    }\n",
              "\n",
              "    .dataframe tbody tr th {\n",
              "        vertical-align: top;\n",
              "    }\n",
              "\n",
              "    .dataframe thead th {\n",
              "        text-align: right;\n",
              "    }\n",
              "</style>\n",
              "<table border=\"1\" class=\"dataframe\">\n",
              "  <thead>\n",
              "    <tr style=\"text-align: right;\">\n",
              "      <th></th>\n",
              "      <th>gender</th>\n",
              "      <th>race/ethnicity</th>\n",
              "      <th>parental level of education</th>\n",
              "      <th>lunch</th>\n",
              "      <th>test preparation course</th>\n",
              "      <th>math score</th>\n",
              "      <th>reading score</th>\n",
              "      <th>writing score</th>\n",
              "    </tr>\n",
              "  </thead>\n",
              "  <tbody>\n",
              "    <tr>\n",
              "      <th>0</th>\n",
              "      <td>female</td>\n",
              "      <td>group B</td>\n",
              "      <td>bachelor's degree</td>\n",
              "      <td>standard</td>\n",
              "      <td>none</td>\n",
              "      <td>72</td>\n",
              "      <td>72</td>\n",
              "      <td>74</td>\n",
              "    </tr>\n",
              "    <tr>\n",
              "      <th>1</th>\n",
              "      <td>female</td>\n",
              "      <td>group C</td>\n",
              "      <td>some college</td>\n",
              "      <td>standard</td>\n",
              "      <td>completed</td>\n",
              "      <td>69</td>\n",
              "      <td>90</td>\n",
              "      <td>88</td>\n",
              "    </tr>\n",
              "    <tr>\n",
              "      <th>2</th>\n",
              "      <td>female</td>\n",
              "      <td>group B</td>\n",
              "      <td>master's degree</td>\n",
              "      <td>standard</td>\n",
              "      <td>none</td>\n",
              "      <td>90</td>\n",
              "      <td>95</td>\n",
              "      <td>93</td>\n",
              "    </tr>\n",
              "    <tr>\n",
              "      <th>3</th>\n",
              "      <td>male</td>\n",
              "      <td>group A</td>\n",
              "      <td>associate's degree</td>\n",
              "      <td>free/reduced</td>\n",
              "      <td>none</td>\n",
              "      <td>47</td>\n",
              "      <td>57</td>\n",
              "      <td>44</td>\n",
              "    </tr>\n",
              "    <tr>\n",
              "      <th>4</th>\n",
              "      <td>male</td>\n",
              "      <td>group C</td>\n",
              "      <td>some college</td>\n",
              "      <td>standard</td>\n",
              "      <td>none</td>\n",
              "      <td>76</td>\n",
              "      <td>78</td>\n",
              "      <td>75</td>\n",
              "    </tr>\n",
              "  </tbody>\n",
              "</table>\n",
              "</div>\n",
              "      <button class=\"colab-df-convert\" onclick=\"convertToInteractive('df-76a7dfab-b686-4079-9595-356dabf3013c')\"\n",
              "              title=\"Convert this dataframe to an interactive table.\"\n",
              "              style=\"display:none;\">\n",
              "        \n",
              "  <svg xmlns=\"http://www.w3.org/2000/svg\" height=\"24px\"viewBox=\"0 0 24 24\"\n",
              "       width=\"24px\">\n",
              "    <path d=\"M0 0h24v24H0V0z\" fill=\"none\"/>\n",
              "    <path d=\"M18.56 5.44l.94 2.06.94-2.06 2.06-.94-2.06-.94-.94-2.06-.94 2.06-2.06.94zm-11 1L8.5 8.5l.94-2.06 2.06-.94-2.06-.94L8.5 2.5l-.94 2.06-2.06.94zm10 10l.94 2.06.94-2.06 2.06-.94-2.06-.94-.94-2.06-.94 2.06-2.06.94z\"/><path d=\"M17.41 7.96l-1.37-1.37c-.4-.4-.92-.59-1.43-.59-.52 0-1.04.2-1.43.59L10.3 9.45l-7.72 7.72c-.78.78-.78 2.05 0 2.83L4 21.41c.39.39.9.59 1.41.59.51 0 1.02-.2 1.41-.59l7.78-7.78 2.81-2.81c.8-.78.8-2.07 0-2.86zM5.41 20L4 18.59l7.72-7.72 1.47 1.35L5.41 20z\"/>\n",
              "  </svg>\n",
              "      </button>\n",
              "      \n",
              "  <style>\n",
              "    .colab-df-container {\n",
              "      display:flex;\n",
              "      flex-wrap:wrap;\n",
              "      gap: 12px;\n",
              "    }\n",
              "\n",
              "    .colab-df-convert {\n",
              "      background-color: #E8F0FE;\n",
              "      border: none;\n",
              "      border-radius: 50%;\n",
              "      cursor: pointer;\n",
              "      display: none;\n",
              "      fill: #1967D2;\n",
              "      height: 32px;\n",
              "      padding: 0 0 0 0;\n",
              "      width: 32px;\n",
              "    }\n",
              "\n",
              "    .colab-df-convert:hover {\n",
              "      background-color: #E2EBFA;\n",
              "      box-shadow: 0px 1px 2px rgba(60, 64, 67, 0.3), 0px 1px 3px 1px rgba(60, 64, 67, 0.15);\n",
              "      fill: #174EA6;\n",
              "    }\n",
              "\n",
              "    [theme=dark] .colab-df-convert {\n",
              "      background-color: #3B4455;\n",
              "      fill: #D2E3FC;\n",
              "    }\n",
              "\n",
              "    [theme=dark] .colab-df-convert:hover {\n",
              "      background-color: #434B5C;\n",
              "      box-shadow: 0px 1px 3px 1px rgba(0, 0, 0, 0.15);\n",
              "      filter: drop-shadow(0px 1px 2px rgba(0, 0, 0, 0.3));\n",
              "      fill: #FFFFFF;\n",
              "    }\n",
              "  </style>\n",
              "\n",
              "      <script>\n",
              "        const buttonEl =\n",
              "          document.querySelector('#df-76a7dfab-b686-4079-9595-356dabf3013c button.colab-df-convert');\n",
              "        buttonEl.style.display =\n",
              "          google.colab.kernel.accessAllowed ? 'block' : 'none';\n",
              "\n",
              "        async function convertToInteractive(key) {\n",
              "          const element = document.querySelector('#df-76a7dfab-b686-4079-9595-356dabf3013c');\n",
              "          const dataTable =\n",
              "            await google.colab.kernel.invokeFunction('convertToInteractive',\n",
              "                                                     [key], {});\n",
              "          if (!dataTable) return;\n",
              "\n",
              "          const docLinkHtml = 'Like what you see? Visit the ' +\n",
              "            '<a target=\"_blank\" href=https://colab.research.google.com/notebooks/data_table.ipynb>data table notebook</a>'\n",
              "            + ' to learn more about interactive tables.';\n",
              "          element.innerHTML = '';\n",
              "          dataTable['output_type'] = 'display_data';\n",
              "          await google.colab.output.renderOutput(dataTable, element);\n",
              "          const docLink = document.createElement('div');\n",
              "          docLink.innerHTML = docLinkHtml;\n",
              "          element.appendChild(docLink);\n",
              "        }\n",
              "      </script>\n",
              "    </div>\n",
              "  </div>\n",
              "  "
            ]
          },
          "metadata": {},
          "execution_count": 6
        }
      ]
    },
    {
      "cell_type": "markdown",
      "source": [
        "`limit(n)` helps in limiting the reading of rows in spark dataframe "
      ],
      "metadata": {
        "id": "CDz1KVvJeiDw"
      }
    },
    {
      "cell_type": "code",
      "source": [
        "students.limit(4).toPandas()"
      ],
      "metadata": {
        "colab": {
          "base_uri": "https://localhost:8080/",
          "height": 175
        },
        "id": "cGKctW5cd1JX",
        "outputId": "4aa8425d-e8db-4723-c950-cf837692dcb5"
      },
      "execution_count": 7,
      "outputs": [
        {
          "output_type": "execute_result",
          "data": {
            "text/plain": [
              "   gender race/ethnicity parental level of education         lunch  \\\n",
              "0  female        group B           bachelor's degree      standard   \n",
              "1  female        group C                some college      standard   \n",
              "2  female        group B             master's degree      standard   \n",
              "3    male        group A          associate's degree  free/reduced   \n",
              "\n",
              "  test preparation course  math score  reading score  writing score  \n",
              "0                    none          72             72             74  \n",
              "1               completed          69             90             88  \n",
              "2                    none          90             95             93  \n",
              "3                    none          47             57             44  "
            ],
            "text/html": [
              "\n",
              "  <div id=\"df-b9e45dfe-7ab5-4002-8254-14c52caca60b\">\n",
              "    <div class=\"colab-df-container\">\n",
              "      <div>\n",
              "<style scoped>\n",
              "    .dataframe tbody tr th:only-of-type {\n",
              "        vertical-align: middle;\n",
              "    }\n",
              "\n",
              "    .dataframe tbody tr th {\n",
              "        vertical-align: top;\n",
              "    }\n",
              "\n",
              "    .dataframe thead th {\n",
              "        text-align: right;\n",
              "    }\n",
              "</style>\n",
              "<table border=\"1\" class=\"dataframe\">\n",
              "  <thead>\n",
              "    <tr style=\"text-align: right;\">\n",
              "      <th></th>\n",
              "      <th>gender</th>\n",
              "      <th>race/ethnicity</th>\n",
              "      <th>parental level of education</th>\n",
              "      <th>lunch</th>\n",
              "      <th>test preparation course</th>\n",
              "      <th>math score</th>\n",
              "      <th>reading score</th>\n",
              "      <th>writing score</th>\n",
              "    </tr>\n",
              "  </thead>\n",
              "  <tbody>\n",
              "    <tr>\n",
              "      <th>0</th>\n",
              "      <td>female</td>\n",
              "      <td>group B</td>\n",
              "      <td>bachelor's degree</td>\n",
              "      <td>standard</td>\n",
              "      <td>none</td>\n",
              "      <td>72</td>\n",
              "      <td>72</td>\n",
              "      <td>74</td>\n",
              "    </tr>\n",
              "    <tr>\n",
              "      <th>1</th>\n",
              "      <td>female</td>\n",
              "      <td>group C</td>\n",
              "      <td>some college</td>\n",
              "      <td>standard</td>\n",
              "      <td>completed</td>\n",
              "      <td>69</td>\n",
              "      <td>90</td>\n",
              "      <td>88</td>\n",
              "    </tr>\n",
              "    <tr>\n",
              "      <th>2</th>\n",
              "      <td>female</td>\n",
              "      <td>group B</td>\n",
              "      <td>master's degree</td>\n",
              "      <td>standard</td>\n",
              "      <td>none</td>\n",
              "      <td>90</td>\n",
              "      <td>95</td>\n",
              "      <td>93</td>\n",
              "    </tr>\n",
              "    <tr>\n",
              "      <th>3</th>\n",
              "      <td>male</td>\n",
              "      <td>group A</td>\n",
              "      <td>associate's degree</td>\n",
              "      <td>free/reduced</td>\n",
              "      <td>none</td>\n",
              "      <td>47</td>\n",
              "      <td>57</td>\n",
              "      <td>44</td>\n",
              "    </tr>\n",
              "  </tbody>\n",
              "</table>\n",
              "</div>\n",
              "      <button class=\"colab-df-convert\" onclick=\"convertToInteractive('df-b9e45dfe-7ab5-4002-8254-14c52caca60b')\"\n",
              "              title=\"Convert this dataframe to an interactive table.\"\n",
              "              style=\"display:none;\">\n",
              "        \n",
              "  <svg xmlns=\"http://www.w3.org/2000/svg\" height=\"24px\"viewBox=\"0 0 24 24\"\n",
              "       width=\"24px\">\n",
              "    <path d=\"M0 0h24v24H0V0z\" fill=\"none\"/>\n",
              "    <path d=\"M18.56 5.44l.94 2.06.94-2.06 2.06-.94-2.06-.94-.94-2.06-.94 2.06-2.06.94zm-11 1L8.5 8.5l.94-2.06 2.06-.94-2.06-.94L8.5 2.5l-.94 2.06-2.06.94zm10 10l.94 2.06.94-2.06 2.06-.94-2.06-.94-.94-2.06-.94 2.06-2.06.94z\"/><path d=\"M17.41 7.96l-1.37-1.37c-.4-.4-.92-.59-1.43-.59-.52 0-1.04.2-1.43.59L10.3 9.45l-7.72 7.72c-.78.78-.78 2.05 0 2.83L4 21.41c.39.39.9.59 1.41.59.51 0 1.02-.2 1.41-.59l7.78-7.78 2.81-2.81c.8-.78.8-2.07 0-2.86zM5.41 20L4 18.59l7.72-7.72 1.47 1.35L5.41 20z\"/>\n",
              "  </svg>\n",
              "      </button>\n",
              "      \n",
              "  <style>\n",
              "    .colab-df-container {\n",
              "      display:flex;\n",
              "      flex-wrap:wrap;\n",
              "      gap: 12px;\n",
              "    }\n",
              "\n",
              "    .colab-df-convert {\n",
              "      background-color: #E8F0FE;\n",
              "      border: none;\n",
              "      border-radius: 50%;\n",
              "      cursor: pointer;\n",
              "      display: none;\n",
              "      fill: #1967D2;\n",
              "      height: 32px;\n",
              "      padding: 0 0 0 0;\n",
              "      width: 32px;\n",
              "    }\n",
              "\n",
              "    .colab-df-convert:hover {\n",
              "      background-color: #E2EBFA;\n",
              "      box-shadow: 0px 1px 2px rgba(60, 64, 67, 0.3), 0px 1px 3px 1px rgba(60, 64, 67, 0.15);\n",
              "      fill: #174EA6;\n",
              "    }\n",
              "\n",
              "    [theme=dark] .colab-df-convert {\n",
              "      background-color: #3B4455;\n",
              "      fill: #D2E3FC;\n",
              "    }\n",
              "\n",
              "    [theme=dark] .colab-df-convert:hover {\n",
              "      background-color: #434B5C;\n",
              "      box-shadow: 0px 1px 3px 1px rgba(0, 0, 0, 0.15);\n",
              "      filter: drop-shadow(0px 1px 2px rgba(0, 0, 0, 0.3));\n",
              "      fill: #FFFFFF;\n",
              "    }\n",
              "  </style>\n",
              "\n",
              "      <script>\n",
              "        const buttonEl =\n",
              "          document.querySelector('#df-b9e45dfe-7ab5-4002-8254-14c52caca60b button.colab-df-convert');\n",
              "        buttonEl.style.display =\n",
              "          google.colab.kernel.accessAllowed ? 'block' : 'none';\n",
              "\n",
              "        async function convertToInteractive(key) {\n",
              "          const element = document.querySelector('#df-b9e45dfe-7ab5-4002-8254-14c52caca60b');\n",
              "          const dataTable =\n",
              "            await google.colab.kernel.invokeFunction('convertToInteractive',\n",
              "                                                     [key], {});\n",
              "          if (!dataTable) return;\n",
              "\n",
              "          const docLinkHtml = 'Like what you see? Visit the ' +\n",
              "            '<a target=\"_blank\" href=https://colab.research.google.com/notebooks/data_table.ipynb>data table notebook</a>'\n",
              "            + ' to learn more about interactive tables.';\n",
              "          element.innerHTML = '';\n",
              "          dataTable['output_type'] = 'display_data';\n",
              "          await google.colab.output.renderOutput(dataTable, element);\n",
              "          const docLink = document.createElement('div');\n",
              "          docLink.innerHTML = docLinkHtml;\n",
              "          element.appendChild(docLink);\n",
              "        }\n",
              "      </script>\n",
              "    </div>\n",
              "  </div>\n",
              "  "
            ]
          },
          "metadata": {},
          "execution_count": 7
        }
      ]
    },
    {
      "cell_type": "markdown",
      "source": [
        "### Reading and Loading Parquet file\n",
        "\n",
        "Parquet files are simple data files. the deal is you cant read them with an UI. \n",
        "You only have the options to read them from a code. So basically the meta data \n",
        "for reading the file using an UI is removed giving it less weight. \n",
        "\n",
        "use the `spark.read.parquet(file_path)` to read your file"
      ],
      "metadata": {
        "id": "IoNRIkcdepNb"
      }
    },
    {
      "cell_type": "code",
      "source": [
        "parquet_path = '/content/drive/MyDrive/Python Files and Datasets AS of 16MAY21 2/PySpark DataFrame Essentials/Datasets/users1.parquet'\n",
        "patitioned_file = spark.read.parquet(parquet_path)\n",
        "patitioned_file.limit(4).toPandas()"
      ],
      "metadata": {
        "colab": {
          "base_uri": "https://localhost:8080/",
          "height": 344
        },
        "id": "1AyrTAoVd-n1",
        "outputId": "3f66e3cd-e6d7-4208-fda5-be2b7a8e1c46"
      },
      "execution_count": 8,
      "outputs": [
        {
          "output_type": "stream",
          "name": "stderr",
          "text": [
            "/usr/local/lib/python3.10/dist-packages/pyspark/sql/pandas/conversion.py:251: FutureWarning: Passing unit-less datetime64 dtype to .astype is deprecated and will raise in a future version. Pass 'datetime64[ns]' instead\n",
            "  series = series.astype(t, copy=False)\n"
          ]
        },
        {
          "output_type": "execute_result",
          "data": {
            "text/plain": [
              "    registration_dttm  id first_name last_name                    email  \\\n",
              "0 2016-02-03 07:55:29   1     Amanda    Jordan         ajordan0@com.com   \n",
              "1 2016-02-03 17:04:03   2     Albert   Freeman          afreeman1@is.gd   \n",
              "2 2016-02-03 01:09:31   3     Evelyn    Morgan  emorgan2@altervista.org   \n",
              "3 2016-02-03 00:36:21   4     Denise     Riley         driley3@gmpg.org   \n",
              "\n",
              "   gender      ip_address                cc    country  birthdate     salary  \\\n",
              "0  Female     1.197.201.2  6759521864920116  Indonesia   3/8/1971   49756.53   \n",
              "1    Male  218.111.175.34                       Canada  1/16/1968  150280.17   \n",
              "2  Female    7.161.136.94  6767119071901597     Russia   2/1/1960  144972.51   \n",
              "3  Female   140.35.109.83  3576031598965625      China   4/8/1997   90263.05   \n",
              "\n",
              "                    title comments  \n",
              "0        Internal Auditor    1E+02  \n",
              "1           Accountant IV           \n",
              "2     Structural Engineer           \n",
              "3  Senior Cost Accountant           "
            ],
            "text/html": [
              "\n",
              "  <div id=\"df-c3dbd915-3453-456c-98cc-63143f9a920e\">\n",
              "    <div class=\"colab-df-container\">\n",
              "      <div>\n",
              "<style scoped>\n",
              "    .dataframe tbody tr th:only-of-type {\n",
              "        vertical-align: middle;\n",
              "    }\n",
              "\n",
              "    .dataframe tbody tr th {\n",
              "        vertical-align: top;\n",
              "    }\n",
              "\n",
              "    .dataframe thead th {\n",
              "        text-align: right;\n",
              "    }\n",
              "</style>\n",
              "<table border=\"1\" class=\"dataframe\">\n",
              "  <thead>\n",
              "    <tr style=\"text-align: right;\">\n",
              "      <th></th>\n",
              "      <th>registration_dttm</th>\n",
              "      <th>id</th>\n",
              "      <th>first_name</th>\n",
              "      <th>last_name</th>\n",
              "      <th>email</th>\n",
              "      <th>gender</th>\n",
              "      <th>ip_address</th>\n",
              "      <th>cc</th>\n",
              "      <th>country</th>\n",
              "      <th>birthdate</th>\n",
              "      <th>salary</th>\n",
              "      <th>title</th>\n",
              "      <th>comments</th>\n",
              "    </tr>\n",
              "  </thead>\n",
              "  <tbody>\n",
              "    <tr>\n",
              "      <th>0</th>\n",
              "      <td>2016-02-03 07:55:29</td>\n",
              "      <td>1</td>\n",
              "      <td>Amanda</td>\n",
              "      <td>Jordan</td>\n",
              "      <td>ajordan0@com.com</td>\n",
              "      <td>Female</td>\n",
              "      <td>1.197.201.2</td>\n",
              "      <td>6759521864920116</td>\n",
              "      <td>Indonesia</td>\n",
              "      <td>3/8/1971</td>\n",
              "      <td>49756.53</td>\n",
              "      <td>Internal Auditor</td>\n",
              "      <td>1E+02</td>\n",
              "    </tr>\n",
              "    <tr>\n",
              "      <th>1</th>\n",
              "      <td>2016-02-03 17:04:03</td>\n",
              "      <td>2</td>\n",
              "      <td>Albert</td>\n",
              "      <td>Freeman</td>\n",
              "      <td>afreeman1@is.gd</td>\n",
              "      <td>Male</td>\n",
              "      <td>218.111.175.34</td>\n",
              "      <td></td>\n",
              "      <td>Canada</td>\n",
              "      <td>1/16/1968</td>\n",
              "      <td>150280.17</td>\n",
              "      <td>Accountant IV</td>\n",
              "      <td></td>\n",
              "    </tr>\n",
              "    <tr>\n",
              "      <th>2</th>\n",
              "      <td>2016-02-03 01:09:31</td>\n",
              "      <td>3</td>\n",
              "      <td>Evelyn</td>\n",
              "      <td>Morgan</td>\n",
              "      <td>emorgan2@altervista.org</td>\n",
              "      <td>Female</td>\n",
              "      <td>7.161.136.94</td>\n",
              "      <td>6767119071901597</td>\n",
              "      <td>Russia</td>\n",
              "      <td>2/1/1960</td>\n",
              "      <td>144972.51</td>\n",
              "      <td>Structural Engineer</td>\n",
              "      <td></td>\n",
              "    </tr>\n",
              "    <tr>\n",
              "      <th>3</th>\n",
              "      <td>2016-02-03 00:36:21</td>\n",
              "      <td>4</td>\n",
              "      <td>Denise</td>\n",
              "      <td>Riley</td>\n",
              "      <td>driley3@gmpg.org</td>\n",
              "      <td>Female</td>\n",
              "      <td>140.35.109.83</td>\n",
              "      <td>3576031598965625</td>\n",
              "      <td>China</td>\n",
              "      <td>4/8/1997</td>\n",
              "      <td>90263.05</td>\n",
              "      <td>Senior Cost Accountant</td>\n",
              "      <td></td>\n",
              "    </tr>\n",
              "  </tbody>\n",
              "</table>\n",
              "</div>\n",
              "      <button class=\"colab-df-convert\" onclick=\"convertToInteractive('df-c3dbd915-3453-456c-98cc-63143f9a920e')\"\n",
              "              title=\"Convert this dataframe to an interactive table.\"\n",
              "              style=\"display:none;\">\n",
              "        \n",
              "  <svg xmlns=\"http://www.w3.org/2000/svg\" height=\"24px\"viewBox=\"0 0 24 24\"\n",
              "       width=\"24px\">\n",
              "    <path d=\"M0 0h24v24H0V0z\" fill=\"none\"/>\n",
              "    <path d=\"M18.56 5.44l.94 2.06.94-2.06 2.06-.94-2.06-.94-.94-2.06-.94 2.06-2.06.94zm-11 1L8.5 8.5l.94-2.06 2.06-.94-2.06-.94L8.5 2.5l-.94 2.06-2.06.94zm10 10l.94 2.06.94-2.06 2.06-.94-2.06-.94-.94-2.06-.94 2.06-2.06.94z\"/><path d=\"M17.41 7.96l-1.37-1.37c-.4-.4-.92-.59-1.43-.59-.52 0-1.04.2-1.43.59L10.3 9.45l-7.72 7.72c-.78.78-.78 2.05 0 2.83L4 21.41c.39.39.9.59 1.41.59.51 0 1.02-.2 1.41-.59l7.78-7.78 2.81-2.81c.8-.78.8-2.07 0-2.86zM5.41 20L4 18.59l7.72-7.72 1.47 1.35L5.41 20z\"/>\n",
              "  </svg>\n",
              "      </button>\n",
              "      \n",
              "  <style>\n",
              "    .colab-df-container {\n",
              "      display:flex;\n",
              "      flex-wrap:wrap;\n",
              "      gap: 12px;\n",
              "    }\n",
              "\n",
              "    .colab-df-convert {\n",
              "      background-color: #E8F0FE;\n",
              "      border: none;\n",
              "      border-radius: 50%;\n",
              "      cursor: pointer;\n",
              "      display: none;\n",
              "      fill: #1967D2;\n",
              "      height: 32px;\n",
              "      padding: 0 0 0 0;\n",
              "      width: 32px;\n",
              "    }\n",
              "\n",
              "    .colab-df-convert:hover {\n",
              "      background-color: #E2EBFA;\n",
              "      box-shadow: 0px 1px 2px rgba(60, 64, 67, 0.3), 0px 1px 3px 1px rgba(60, 64, 67, 0.15);\n",
              "      fill: #174EA6;\n",
              "    }\n",
              "\n",
              "    [theme=dark] .colab-df-convert {\n",
              "      background-color: #3B4455;\n",
              "      fill: #D2E3FC;\n",
              "    }\n",
              "\n",
              "    [theme=dark] .colab-df-convert:hover {\n",
              "      background-color: #434B5C;\n",
              "      box-shadow: 0px 1px 3px 1px rgba(0, 0, 0, 0.15);\n",
              "      filter: drop-shadow(0px 1px 2px rgba(0, 0, 0, 0.3));\n",
              "      fill: #FFFFFF;\n",
              "    }\n",
              "  </style>\n",
              "\n",
              "      <script>\n",
              "        const buttonEl =\n",
              "          document.querySelector('#df-c3dbd915-3453-456c-98cc-63143f9a920e button.colab-df-convert');\n",
              "        buttonEl.style.display =\n",
              "          google.colab.kernel.accessAllowed ? 'block' : 'none';\n",
              "\n",
              "        async function convertToInteractive(key) {\n",
              "          const element = document.querySelector('#df-c3dbd915-3453-456c-98cc-63143f9a920e');\n",
              "          const dataTable =\n",
              "            await google.colab.kernel.invokeFunction('convertToInteractive',\n",
              "                                                     [key], {});\n",
              "          if (!dataTable) return;\n",
              "\n",
              "          const docLinkHtml = 'Like what you see? Visit the ' +\n",
              "            '<a target=\"_blank\" href=https://colab.research.google.com/notebooks/data_table.ipynb>data table notebook</a>'\n",
              "            + ' to learn more about interactive tables.';\n",
              "          element.innerHTML = '';\n",
              "          dataTable['output_type'] = 'display_data';\n",
              "          await google.colab.output.renderOutput(dataTable, element);\n",
              "          const docLink = document.createElement('div');\n",
              "          docLink.innerHTML = docLinkHtml;\n",
              "          element.appendChild(docLink);\n",
              "        }\n",
              "      </script>\n",
              "    </div>\n",
              "  </div>\n",
              "  "
            ]
          },
          "metadata": {},
          "execution_count": 8
        }
      ]
    },
    {
      "cell_type": "markdown",
      "source": [
        "### Reading Multiple Parquet Files\n",
        "\n",
        "To read multiple parquet files, you need to do the following \n",
        "- pass multiple parameters to read files. \n",
        "- Use a wild card\n",
        "\n",
        "Note, the data schema should be the same "
      ],
      "metadata": {
        "id": "8LWlvM6jWh8H"
      }
    },
    {
      "cell_type": "code",
      "source": [
        "general_path = '/content/drive/MyDrive/Python Files and Datasets AS of 16MAY21 2/PySpark DataFrame Essentials/Datasets/'\n",
        "users_1_2 = spark.read.parquet(general_path+'users1.parquet',general_path+'users2.parquet')\n",
        "users_1_2.limit(4).toPandas()"
      ],
      "metadata": {
        "colab": {
          "base_uri": "https://localhost:8080/",
          "height": 344
        },
        "id": "v-7eJx0YfbXP",
        "outputId": "e3c3281d-3d4c-42d2-afca-de291ecc1e39"
      },
      "execution_count": 9,
      "outputs": [
        {
          "output_type": "stream",
          "name": "stderr",
          "text": [
            "/usr/local/lib/python3.10/dist-packages/pyspark/sql/pandas/conversion.py:251: FutureWarning: Passing unit-less datetime64 dtype to .astype is deprecated and will raise in a future version. Pass 'datetime64[ns]' instead\n",
            "  series = series.astype(t, copy=False)\n"
          ]
        },
        {
          "output_type": "execute_result",
          "data": {
            "text/plain": [
              "    registration_dttm  id first_name last_name                    email  \\\n",
              "0 2016-02-03 07:55:29   1     Amanda    Jordan         ajordan0@com.com   \n",
              "1 2016-02-03 17:04:03   2     Albert   Freeman          afreeman1@is.gd   \n",
              "2 2016-02-03 01:09:31   3     Evelyn    Morgan  emorgan2@altervista.org   \n",
              "3 2016-02-03 00:36:21   4     Denise     Riley         driley3@gmpg.org   \n",
              "\n",
              "   gender      ip_address                cc    country  birthdate     salary  \\\n",
              "0  Female     1.197.201.2  6759521864920116  Indonesia   3/8/1971   49756.53   \n",
              "1    Male  218.111.175.34                       Canada  1/16/1968  150280.17   \n",
              "2  Female    7.161.136.94  6767119071901597     Russia   2/1/1960  144972.51   \n",
              "3  Female   140.35.109.83  3576031598965625      China   4/8/1997   90263.05   \n",
              "\n",
              "                    title comments  \n",
              "0        Internal Auditor    1E+02  \n",
              "1           Accountant IV           \n",
              "2     Structural Engineer           \n",
              "3  Senior Cost Accountant           "
            ],
            "text/html": [
              "\n",
              "  <div id=\"df-1918498e-1134-41cd-ae06-2b8061a3eee6\">\n",
              "    <div class=\"colab-df-container\">\n",
              "      <div>\n",
              "<style scoped>\n",
              "    .dataframe tbody tr th:only-of-type {\n",
              "        vertical-align: middle;\n",
              "    }\n",
              "\n",
              "    .dataframe tbody tr th {\n",
              "        vertical-align: top;\n",
              "    }\n",
              "\n",
              "    .dataframe thead th {\n",
              "        text-align: right;\n",
              "    }\n",
              "</style>\n",
              "<table border=\"1\" class=\"dataframe\">\n",
              "  <thead>\n",
              "    <tr style=\"text-align: right;\">\n",
              "      <th></th>\n",
              "      <th>registration_dttm</th>\n",
              "      <th>id</th>\n",
              "      <th>first_name</th>\n",
              "      <th>last_name</th>\n",
              "      <th>email</th>\n",
              "      <th>gender</th>\n",
              "      <th>ip_address</th>\n",
              "      <th>cc</th>\n",
              "      <th>country</th>\n",
              "      <th>birthdate</th>\n",
              "      <th>salary</th>\n",
              "      <th>title</th>\n",
              "      <th>comments</th>\n",
              "    </tr>\n",
              "  </thead>\n",
              "  <tbody>\n",
              "    <tr>\n",
              "      <th>0</th>\n",
              "      <td>2016-02-03 07:55:29</td>\n",
              "      <td>1</td>\n",
              "      <td>Amanda</td>\n",
              "      <td>Jordan</td>\n",
              "      <td>ajordan0@com.com</td>\n",
              "      <td>Female</td>\n",
              "      <td>1.197.201.2</td>\n",
              "      <td>6759521864920116</td>\n",
              "      <td>Indonesia</td>\n",
              "      <td>3/8/1971</td>\n",
              "      <td>49756.53</td>\n",
              "      <td>Internal Auditor</td>\n",
              "      <td>1E+02</td>\n",
              "    </tr>\n",
              "    <tr>\n",
              "      <th>1</th>\n",
              "      <td>2016-02-03 17:04:03</td>\n",
              "      <td>2</td>\n",
              "      <td>Albert</td>\n",
              "      <td>Freeman</td>\n",
              "      <td>afreeman1@is.gd</td>\n",
              "      <td>Male</td>\n",
              "      <td>218.111.175.34</td>\n",
              "      <td></td>\n",
              "      <td>Canada</td>\n",
              "      <td>1/16/1968</td>\n",
              "      <td>150280.17</td>\n",
              "      <td>Accountant IV</td>\n",
              "      <td></td>\n",
              "    </tr>\n",
              "    <tr>\n",
              "      <th>2</th>\n",
              "      <td>2016-02-03 01:09:31</td>\n",
              "      <td>3</td>\n",
              "      <td>Evelyn</td>\n",
              "      <td>Morgan</td>\n",
              "      <td>emorgan2@altervista.org</td>\n",
              "      <td>Female</td>\n",
              "      <td>7.161.136.94</td>\n",
              "      <td>6767119071901597</td>\n",
              "      <td>Russia</td>\n",
              "      <td>2/1/1960</td>\n",
              "      <td>144972.51</td>\n",
              "      <td>Structural Engineer</td>\n",
              "      <td></td>\n",
              "    </tr>\n",
              "    <tr>\n",
              "      <th>3</th>\n",
              "      <td>2016-02-03 00:36:21</td>\n",
              "      <td>4</td>\n",
              "      <td>Denise</td>\n",
              "      <td>Riley</td>\n",
              "      <td>driley3@gmpg.org</td>\n",
              "      <td>Female</td>\n",
              "      <td>140.35.109.83</td>\n",
              "      <td>3576031598965625</td>\n",
              "      <td>China</td>\n",
              "      <td>4/8/1997</td>\n",
              "      <td>90263.05</td>\n",
              "      <td>Senior Cost Accountant</td>\n",
              "      <td></td>\n",
              "    </tr>\n",
              "  </tbody>\n",
              "</table>\n",
              "</div>\n",
              "      <button class=\"colab-df-convert\" onclick=\"convertToInteractive('df-1918498e-1134-41cd-ae06-2b8061a3eee6')\"\n",
              "              title=\"Convert this dataframe to an interactive table.\"\n",
              "              style=\"display:none;\">\n",
              "        \n",
              "  <svg xmlns=\"http://www.w3.org/2000/svg\" height=\"24px\"viewBox=\"0 0 24 24\"\n",
              "       width=\"24px\">\n",
              "    <path d=\"M0 0h24v24H0V0z\" fill=\"none\"/>\n",
              "    <path d=\"M18.56 5.44l.94 2.06.94-2.06 2.06-.94-2.06-.94-.94-2.06-.94 2.06-2.06.94zm-11 1L8.5 8.5l.94-2.06 2.06-.94-2.06-.94L8.5 2.5l-.94 2.06-2.06.94zm10 10l.94 2.06.94-2.06 2.06-.94-2.06-.94-.94-2.06-.94 2.06-2.06.94z\"/><path d=\"M17.41 7.96l-1.37-1.37c-.4-.4-.92-.59-1.43-.59-.52 0-1.04.2-1.43.59L10.3 9.45l-7.72 7.72c-.78.78-.78 2.05 0 2.83L4 21.41c.39.39.9.59 1.41.59.51 0 1.02-.2 1.41-.59l7.78-7.78 2.81-2.81c.8-.78.8-2.07 0-2.86zM5.41 20L4 18.59l7.72-7.72 1.47 1.35L5.41 20z\"/>\n",
              "  </svg>\n",
              "      </button>\n",
              "      \n",
              "  <style>\n",
              "    .colab-df-container {\n",
              "      display:flex;\n",
              "      flex-wrap:wrap;\n",
              "      gap: 12px;\n",
              "    }\n",
              "\n",
              "    .colab-df-convert {\n",
              "      background-color: #E8F0FE;\n",
              "      border: none;\n",
              "      border-radius: 50%;\n",
              "      cursor: pointer;\n",
              "      display: none;\n",
              "      fill: #1967D2;\n",
              "      height: 32px;\n",
              "      padding: 0 0 0 0;\n",
              "      width: 32px;\n",
              "    }\n",
              "\n",
              "    .colab-df-convert:hover {\n",
              "      background-color: #E2EBFA;\n",
              "      box-shadow: 0px 1px 2px rgba(60, 64, 67, 0.3), 0px 1px 3px 1px rgba(60, 64, 67, 0.15);\n",
              "      fill: #174EA6;\n",
              "    }\n",
              "\n",
              "    [theme=dark] .colab-df-convert {\n",
              "      background-color: #3B4455;\n",
              "      fill: #D2E3FC;\n",
              "    }\n",
              "\n",
              "    [theme=dark] .colab-df-convert:hover {\n",
              "      background-color: #434B5C;\n",
              "      box-shadow: 0px 1px 3px 1px rgba(0, 0, 0, 0.15);\n",
              "      filter: drop-shadow(0px 1px 2px rgba(0, 0, 0, 0.3));\n",
              "      fill: #FFFFFF;\n",
              "    }\n",
              "  </style>\n",
              "\n",
              "      <script>\n",
              "        const buttonEl =\n",
              "          document.querySelector('#df-1918498e-1134-41cd-ae06-2b8061a3eee6 button.colab-df-convert');\n",
              "        buttonEl.style.display =\n",
              "          google.colab.kernel.accessAllowed ? 'block' : 'none';\n",
              "\n",
              "        async function convertToInteractive(key) {\n",
              "          const element = document.querySelector('#df-1918498e-1134-41cd-ae06-2b8061a3eee6');\n",
              "          const dataTable =\n",
              "            await google.colab.kernel.invokeFunction('convertToInteractive',\n",
              "                                                     [key], {});\n",
              "          if (!dataTable) return;\n",
              "\n",
              "          const docLinkHtml = 'Like what you see? Visit the ' +\n",
              "            '<a target=\"_blank\" href=https://colab.research.google.com/notebooks/data_table.ipynb>data table notebook</a>'\n",
              "            + ' to learn more about interactive tables.';\n",
              "          element.innerHTML = '';\n",
              "          dataTable['output_type'] = 'display_data';\n",
              "          await google.colab.output.renderOutput(dataTable, element);\n",
              "          const docLink = document.createElement('div');\n",
              "          docLink.innerHTML = docLinkHtml;\n",
              "          element.appendChild(docLink);\n",
              "        }\n",
              "      </script>\n",
              "    </div>\n",
              "  </div>\n",
              "  "
            ]
          },
          "metadata": {},
          "execution_count": 9
        }
      ]
    },
    {
      "cell_type": "markdown",
      "source": [
        "The both the syntax are same for reading multiple files. "
      ],
      "metadata": {
        "id": "i3uC2PZYZ5KK"
      }
    },
    {
      "cell_type": "code",
      "source": [
        "users_1_2 = spark.read.option(\"basePath\",general_path).parquet(general_path+'users1.parquet',general_path+'users2.parquet')\n",
        "users_1_2.limit(4).toPandas()"
      ],
      "metadata": {
        "colab": {
          "base_uri": "https://localhost:8080/",
          "height": 344
        },
        "id": "n67DMjUmZMXg",
        "outputId": "25429fb8-0634-44e4-f2e6-2c17db1f1ffc"
      },
      "execution_count": 10,
      "outputs": [
        {
          "output_type": "stream",
          "name": "stderr",
          "text": [
            "/usr/local/lib/python3.10/dist-packages/pyspark/sql/pandas/conversion.py:251: FutureWarning: Passing unit-less datetime64 dtype to .astype is deprecated and will raise in a future version. Pass 'datetime64[ns]' instead\n",
            "  series = series.astype(t, copy=False)\n"
          ]
        },
        {
          "output_type": "execute_result",
          "data": {
            "text/plain": [
              "    registration_dttm  id first_name last_name                    email  \\\n",
              "0 2016-02-03 07:55:29   1     Amanda    Jordan         ajordan0@com.com   \n",
              "1 2016-02-03 17:04:03   2     Albert   Freeman          afreeman1@is.gd   \n",
              "2 2016-02-03 01:09:31   3     Evelyn    Morgan  emorgan2@altervista.org   \n",
              "3 2016-02-03 00:36:21   4     Denise     Riley         driley3@gmpg.org   \n",
              "\n",
              "   gender      ip_address                cc    country  birthdate     salary  \\\n",
              "0  Female     1.197.201.2  6759521864920116  Indonesia   3/8/1971   49756.53   \n",
              "1    Male  218.111.175.34                       Canada  1/16/1968  150280.17   \n",
              "2  Female    7.161.136.94  6767119071901597     Russia   2/1/1960  144972.51   \n",
              "3  Female   140.35.109.83  3576031598965625      China   4/8/1997   90263.05   \n",
              "\n",
              "                    title comments  \n",
              "0        Internal Auditor    1E+02  \n",
              "1           Accountant IV           \n",
              "2     Structural Engineer           \n",
              "3  Senior Cost Accountant           "
            ],
            "text/html": [
              "\n",
              "  <div id=\"df-22e30aa3-702b-47a5-93a3-0cfe45301131\">\n",
              "    <div class=\"colab-df-container\">\n",
              "      <div>\n",
              "<style scoped>\n",
              "    .dataframe tbody tr th:only-of-type {\n",
              "        vertical-align: middle;\n",
              "    }\n",
              "\n",
              "    .dataframe tbody tr th {\n",
              "        vertical-align: top;\n",
              "    }\n",
              "\n",
              "    .dataframe thead th {\n",
              "        text-align: right;\n",
              "    }\n",
              "</style>\n",
              "<table border=\"1\" class=\"dataframe\">\n",
              "  <thead>\n",
              "    <tr style=\"text-align: right;\">\n",
              "      <th></th>\n",
              "      <th>registration_dttm</th>\n",
              "      <th>id</th>\n",
              "      <th>first_name</th>\n",
              "      <th>last_name</th>\n",
              "      <th>email</th>\n",
              "      <th>gender</th>\n",
              "      <th>ip_address</th>\n",
              "      <th>cc</th>\n",
              "      <th>country</th>\n",
              "      <th>birthdate</th>\n",
              "      <th>salary</th>\n",
              "      <th>title</th>\n",
              "      <th>comments</th>\n",
              "    </tr>\n",
              "  </thead>\n",
              "  <tbody>\n",
              "    <tr>\n",
              "      <th>0</th>\n",
              "      <td>2016-02-03 07:55:29</td>\n",
              "      <td>1</td>\n",
              "      <td>Amanda</td>\n",
              "      <td>Jordan</td>\n",
              "      <td>ajordan0@com.com</td>\n",
              "      <td>Female</td>\n",
              "      <td>1.197.201.2</td>\n",
              "      <td>6759521864920116</td>\n",
              "      <td>Indonesia</td>\n",
              "      <td>3/8/1971</td>\n",
              "      <td>49756.53</td>\n",
              "      <td>Internal Auditor</td>\n",
              "      <td>1E+02</td>\n",
              "    </tr>\n",
              "    <tr>\n",
              "      <th>1</th>\n",
              "      <td>2016-02-03 17:04:03</td>\n",
              "      <td>2</td>\n",
              "      <td>Albert</td>\n",
              "      <td>Freeman</td>\n",
              "      <td>afreeman1@is.gd</td>\n",
              "      <td>Male</td>\n",
              "      <td>218.111.175.34</td>\n",
              "      <td></td>\n",
              "      <td>Canada</td>\n",
              "      <td>1/16/1968</td>\n",
              "      <td>150280.17</td>\n",
              "      <td>Accountant IV</td>\n",
              "      <td></td>\n",
              "    </tr>\n",
              "    <tr>\n",
              "      <th>2</th>\n",
              "      <td>2016-02-03 01:09:31</td>\n",
              "      <td>3</td>\n",
              "      <td>Evelyn</td>\n",
              "      <td>Morgan</td>\n",
              "      <td>emorgan2@altervista.org</td>\n",
              "      <td>Female</td>\n",
              "      <td>7.161.136.94</td>\n",
              "      <td>6767119071901597</td>\n",
              "      <td>Russia</td>\n",
              "      <td>2/1/1960</td>\n",
              "      <td>144972.51</td>\n",
              "      <td>Structural Engineer</td>\n",
              "      <td></td>\n",
              "    </tr>\n",
              "    <tr>\n",
              "      <th>3</th>\n",
              "      <td>2016-02-03 00:36:21</td>\n",
              "      <td>4</td>\n",
              "      <td>Denise</td>\n",
              "      <td>Riley</td>\n",
              "      <td>driley3@gmpg.org</td>\n",
              "      <td>Female</td>\n",
              "      <td>140.35.109.83</td>\n",
              "      <td>3576031598965625</td>\n",
              "      <td>China</td>\n",
              "      <td>4/8/1997</td>\n",
              "      <td>90263.05</td>\n",
              "      <td>Senior Cost Accountant</td>\n",
              "      <td></td>\n",
              "    </tr>\n",
              "  </tbody>\n",
              "</table>\n",
              "</div>\n",
              "      <button class=\"colab-df-convert\" onclick=\"convertToInteractive('df-22e30aa3-702b-47a5-93a3-0cfe45301131')\"\n",
              "              title=\"Convert this dataframe to an interactive table.\"\n",
              "              style=\"display:none;\">\n",
              "        \n",
              "  <svg xmlns=\"http://www.w3.org/2000/svg\" height=\"24px\"viewBox=\"0 0 24 24\"\n",
              "       width=\"24px\">\n",
              "    <path d=\"M0 0h24v24H0V0z\" fill=\"none\"/>\n",
              "    <path d=\"M18.56 5.44l.94 2.06.94-2.06 2.06-.94-2.06-.94-.94-2.06-.94 2.06-2.06.94zm-11 1L8.5 8.5l.94-2.06 2.06-.94-2.06-.94L8.5 2.5l-.94 2.06-2.06.94zm10 10l.94 2.06.94-2.06 2.06-.94-2.06-.94-.94-2.06-.94 2.06-2.06.94z\"/><path d=\"M17.41 7.96l-1.37-1.37c-.4-.4-.92-.59-1.43-.59-.52 0-1.04.2-1.43.59L10.3 9.45l-7.72 7.72c-.78.78-.78 2.05 0 2.83L4 21.41c.39.39.9.59 1.41.59.51 0 1.02-.2 1.41-.59l7.78-7.78 2.81-2.81c.8-.78.8-2.07 0-2.86zM5.41 20L4 18.59l7.72-7.72 1.47 1.35L5.41 20z\"/>\n",
              "  </svg>\n",
              "      </button>\n",
              "      \n",
              "  <style>\n",
              "    .colab-df-container {\n",
              "      display:flex;\n",
              "      flex-wrap:wrap;\n",
              "      gap: 12px;\n",
              "    }\n",
              "\n",
              "    .colab-df-convert {\n",
              "      background-color: #E8F0FE;\n",
              "      border: none;\n",
              "      border-radius: 50%;\n",
              "      cursor: pointer;\n",
              "      display: none;\n",
              "      fill: #1967D2;\n",
              "      height: 32px;\n",
              "      padding: 0 0 0 0;\n",
              "      width: 32px;\n",
              "    }\n",
              "\n",
              "    .colab-df-convert:hover {\n",
              "      background-color: #E2EBFA;\n",
              "      box-shadow: 0px 1px 2px rgba(60, 64, 67, 0.3), 0px 1px 3px 1px rgba(60, 64, 67, 0.15);\n",
              "      fill: #174EA6;\n",
              "    }\n",
              "\n",
              "    [theme=dark] .colab-df-convert {\n",
              "      background-color: #3B4455;\n",
              "      fill: #D2E3FC;\n",
              "    }\n",
              "\n",
              "    [theme=dark] .colab-df-convert:hover {\n",
              "      background-color: #434B5C;\n",
              "      box-shadow: 0px 1px 3px 1px rgba(0, 0, 0, 0.15);\n",
              "      filter: drop-shadow(0px 1px 2px rgba(0, 0, 0, 0.3));\n",
              "      fill: #FFFFFF;\n",
              "    }\n",
              "  </style>\n",
              "\n",
              "      <script>\n",
              "        const buttonEl =\n",
              "          document.querySelector('#df-22e30aa3-702b-47a5-93a3-0cfe45301131 button.colab-df-convert');\n",
              "        buttonEl.style.display =\n",
              "          google.colab.kernel.accessAllowed ? 'block' : 'none';\n",
              "\n",
              "        async function convertToInteractive(key) {\n",
              "          const element = document.querySelector('#df-22e30aa3-702b-47a5-93a3-0cfe45301131');\n",
              "          const dataTable =\n",
              "            await google.colab.kernel.invokeFunction('convertToInteractive',\n",
              "                                                     [key], {});\n",
              "          if (!dataTable) return;\n",
              "\n",
              "          const docLinkHtml = 'Like what you see? Visit the ' +\n",
              "            '<a target=\"_blank\" href=https://colab.research.google.com/notebooks/data_table.ipynb>data table notebook</a>'\n",
              "            + ' to learn more about interactive tables.';\n",
              "          element.innerHTML = '';\n",
              "          dataTable['output_type'] = 'display_data';\n",
              "          await google.colab.output.renderOutput(dataTable, element);\n",
              "          const docLink = document.createElement('div');\n",
              "          docLink.innerHTML = docLinkHtml;\n",
              "          element.appendChild(docLink);\n",
              "        }\n",
              "      </script>\n",
              "    </div>\n",
              "  </div>\n",
              "  "
            ]
          },
          "metadata": {},
          "execution_count": 10
        }
      ]
    },
    {
      "cell_type": "markdown",
      "source": [
        "### Validating Data\n",
        "\n",
        "You could use the `printSchema()` function to validate your data frame.\n",
        "by printing the schema, you get the schema in which the dataframe is built. "
      ],
      "metadata": {
        "id": "KR9tG5-9aRUu"
      }
    },
    {
      "cell_type": "code",
      "source": [
        "students.printSchema()"
      ],
      "metadata": {
        "colab": {
          "base_uri": "https://localhost:8080/"
        },
        "id": "YUq0LmJybi55",
        "outputId": "ea70d54b-366c-47b7-87e0-5983a930e193"
      },
      "execution_count": 11,
      "outputs": [
        {
          "output_type": "stream",
          "name": "stdout",
          "text": [
            "root\n",
            " |-- gender: string (nullable = true)\n",
            " |-- race/ethnicity: string (nullable = true)\n",
            " |-- parental level of education: string (nullable = true)\n",
            " |-- lunch: string (nullable = true)\n",
            " |-- test preparation course: string (nullable = true)\n",
            " |-- math score: integer (nullable = true)\n",
            " |-- reading score: integer (nullable = true)\n",
            " |-- writing score: integer (nullable = true)\n",
            "\n"
          ]
        }
      ]
    },
    {
      "cell_type": "markdown",
      "source": [
        "Using `.columns` to identify columns of a data frame"
      ],
      "metadata": {
        "id": "d3564W_obuE3"
      }
    },
    {
      "cell_type": "code",
      "source": [
        "students.columns"
      ],
      "metadata": {
        "colab": {
          "base_uri": "https://localhost:8080/"
        },
        "id": "w7nhFwLZbl5H",
        "outputId": "c21537fd-52c2-4891-9a21-5229bb68a030"
      },
      "execution_count": 12,
      "outputs": [
        {
          "output_type": "execute_result",
          "data": {
            "text/plain": [
              "['gender',\n",
              " 'race/ethnicity',\n",
              " 'parental level of education',\n",
              " 'lunch',\n",
              " 'test preparation course',\n",
              " 'math score',\n",
              " 'reading score',\n",
              " 'writing score']"
            ]
          },
          "metadata": {},
          "execution_count": 12
        }
      ]
    },
    {
      "cell_type": "markdown",
      "source": [
        "Using describe to find the details of the dataframe. \n",
        "- unlike pandas describe, spark `.describe() `function actually talks about the schema of the dataframe "
      ],
      "metadata": {
        "id": "J7M6pjCqb39L"
      }
    },
    {
      "cell_type": "code",
      "source": [
        "students.describe()"
      ],
      "metadata": {
        "colab": {
          "base_uri": "https://localhost:8080/"
        },
        "id": "ufHb2wUdb0yQ",
        "outputId": "b978398f-ec54-410e-e35f-18ad4b79d329"
      },
      "execution_count": 13,
      "outputs": [
        {
          "output_type": "execute_result",
          "data": {
            "text/plain": [
              "DataFrame[summary: string, gender: string, race/ethnicity: string, parental level of education: string, lunch: string, test preparation course: string, math score: string, reading score: string, writing score: string]"
            ]
          },
          "metadata": {},
          "execution_count": 13
        }
      ]
    },
    {
      "cell_type": "markdown",
      "source": [
        "Using the Schema function. You could use the `df.schema['column_name']` to get only the specified column data type. "
      ],
      "metadata": {
        "id": "FlDjg2UydDJM"
      }
    },
    {
      "cell_type": "code",
      "source": [
        "students.schema['math score'].dataType"
      ],
      "metadata": {
        "colab": {
          "base_uri": "https://localhost:8080/"
        },
        "id": "4h9oamPCcmCq",
        "outputId": "1ea28da1-8064-4c35-a557-d61049132ac3"
      },
      "execution_count": 14,
      "outputs": [
        {
          "output_type": "execute_result",
          "data": {
            "text/plain": [
              "IntegerType()"
            ]
          },
          "metadata": {},
          "execution_count": 14
        }
      ]
    },
    {
      "cell_type": "markdown",
      "source": [
        "You could also use the select statement and summary to summarize your data. \n",
        "At this time, I could see its aggregating. So I think it would not exactly be "
      ],
      "metadata": {
        "id": "_eaLguMPyTOW"
      }
    },
    {
      "cell_type": "code",
      "source": [
        "students.select(\"math score\", \"reading score\").summary(\"count\",\"min\",\"max\").show()"
      ],
      "metadata": {
        "colab": {
          "base_uri": "https://localhost:8080/"
        },
        "id": "h8XZKxtFvfMU",
        "outputId": "be0cbc39-0bb8-4ca8-95b7-78f9df245fd7"
      },
      "execution_count": 15,
      "outputs": [
        {
          "output_type": "stream",
          "name": "stdout",
          "text": [
            "+-------+----------+-------------+\n",
            "|summary|math score|reading score|\n",
            "+-------+----------+-------------+\n",
            "|  count|      1000|         1000|\n",
            "|    min|         0|           17|\n",
            "|    max|       100|          100|\n",
            "+-------+----------+-------------+\n",
            "\n"
          ]
        }
      ]
    },
    {
      "cell_type": "markdown",
      "source": [
        "## Specifying Data Types \n",
        "\n",
        "You could decide and specify your data frame's schema using `StructField()` function. \n",
        "Use the syntax as below"
      ],
      "metadata": {
        "id": "HDzZCQxWIYDd"
      }
    },
    {
      "cell_type": "code",
      "source": [
        "from pyspark.sql.types import *\n",
        "\n",
        "data_schema = [\n",
        "    StructField(\"name\",StringType(),True),\n",
        "    StructField(\"email\",StringType(),True),\n",
        "    StructField(\"city\",StringType(),True),\n",
        "    StructField(\"mac\",StringType(),True),\n",
        "    StructField(\"timestamp\",DateType(),True),\n",
        "    StructField(\"creditcard\",StringType(),True),\n",
        "\n",
        "]\n",
        "\n",
        "final_struct = StructType(fields = data_schema)\n",
        "people = spark.read.json(general_path+'people.json',schema=final_struct)"
      ],
      "metadata": {
        "id": "qFwNELPax4NI"
      },
      "execution_count": 16,
      "outputs": []
    },
    {
      "cell_type": "code",
      "source": [
        "people.limit(4).toPandas()"
      ],
      "metadata": {
        "colab": {
          "base_uri": "https://localhost:8080/",
          "height": 175
        },
        "id": "Njn1ZMX-Jj6s",
        "outputId": "9ef1482b-3b17-4779-a18c-276b6536739e"
      },
      "execution_count": 17,
      "outputs": [
        {
          "output_type": "execute_result",
          "data": {
            "text/plain": [
              "                      name                     email             city  \\\n",
              "0                     None                      None             None   \n",
              "1             Keeley Bosco  katlyn@jenkinsmaggio.net  Lake Gladysberg   \n",
              "2              Rubye Jerde     juvenal@johnston.name             None   \n",
              "3  Miss Darian Breitenberg                      None             None   \n",
              "\n",
              "                 mac   timestamp           creditcard  \n",
              "0               None        None                 None  \n",
              "1  08:fd:0b:cd:77:f7  2015-04-25  1228-1221-1221-1431  \n",
              "2  90:4d:fa:42:63:a2  2015-04-25  1228-1221-1221-1431  \n",
              "3  f9:0e:d3:40:cb:e9  2015-04-25                 None  "
            ],
            "text/html": [
              "\n",
              "  <div id=\"df-f553827e-6db4-4b31-adcb-d25f7ffeb3f2\">\n",
              "    <div class=\"colab-df-container\">\n",
              "      <div>\n",
              "<style scoped>\n",
              "    .dataframe tbody tr th:only-of-type {\n",
              "        vertical-align: middle;\n",
              "    }\n",
              "\n",
              "    .dataframe tbody tr th {\n",
              "        vertical-align: top;\n",
              "    }\n",
              "\n",
              "    .dataframe thead th {\n",
              "        text-align: right;\n",
              "    }\n",
              "</style>\n",
              "<table border=\"1\" class=\"dataframe\">\n",
              "  <thead>\n",
              "    <tr style=\"text-align: right;\">\n",
              "      <th></th>\n",
              "      <th>name</th>\n",
              "      <th>email</th>\n",
              "      <th>city</th>\n",
              "      <th>mac</th>\n",
              "      <th>timestamp</th>\n",
              "      <th>creditcard</th>\n",
              "    </tr>\n",
              "  </thead>\n",
              "  <tbody>\n",
              "    <tr>\n",
              "      <th>0</th>\n",
              "      <td>None</td>\n",
              "      <td>None</td>\n",
              "      <td>None</td>\n",
              "      <td>None</td>\n",
              "      <td>None</td>\n",
              "      <td>None</td>\n",
              "    </tr>\n",
              "    <tr>\n",
              "      <th>1</th>\n",
              "      <td>Keeley Bosco</td>\n",
              "      <td>katlyn@jenkinsmaggio.net</td>\n",
              "      <td>Lake Gladysberg</td>\n",
              "      <td>08:fd:0b:cd:77:f7</td>\n",
              "      <td>2015-04-25</td>\n",
              "      <td>1228-1221-1221-1431</td>\n",
              "    </tr>\n",
              "    <tr>\n",
              "      <th>2</th>\n",
              "      <td>Rubye Jerde</td>\n",
              "      <td>juvenal@johnston.name</td>\n",
              "      <td>None</td>\n",
              "      <td>90:4d:fa:42:63:a2</td>\n",
              "      <td>2015-04-25</td>\n",
              "      <td>1228-1221-1221-1431</td>\n",
              "    </tr>\n",
              "    <tr>\n",
              "      <th>3</th>\n",
              "      <td>Miss Darian Breitenberg</td>\n",
              "      <td>None</td>\n",
              "      <td>None</td>\n",
              "      <td>f9:0e:d3:40:cb:e9</td>\n",
              "      <td>2015-04-25</td>\n",
              "      <td>None</td>\n",
              "    </tr>\n",
              "  </tbody>\n",
              "</table>\n",
              "</div>\n",
              "      <button class=\"colab-df-convert\" onclick=\"convertToInteractive('df-f553827e-6db4-4b31-adcb-d25f7ffeb3f2')\"\n",
              "              title=\"Convert this dataframe to an interactive table.\"\n",
              "              style=\"display:none;\">\n",
              "        \n",
              "  <svg xmlns=\"http://www.w3.org/2000/svg\" height=\"24px\"viewBox=\"0 0 24 24\"\n",
              "       width=\"24px\">\n",
              "    <path d=\"M0 0h24v24H0V0z\" fill=\"none\"/>\n",
              "    <path d=\"M18.56 5.44l.94 2.06.94-2.06 2.06-.94-2.06-.94-.94-2.06-.94 2.06-2.06.94zm-11 1L8.5 8.5l.94-2.06 2.06-.94-2.06-.94L8.5 2.5l-.94 2.06-2.06.94zm10 10l.94 2.06.94-2.06 2.06-.94-2.06-.94-.94-2.06-.94 2.06-2.06.94z\"/><path d=\"M17.41 7.96l-1.37-1.37c-.4-.4-.92-.59-1.43-.59-.52 0-1.04.2-1.43.59L10.3 9.45l-7.72 7.72c-.78.78-.78 2.05 0 2.83L4 21.41c.39.39.9.59 1.41.59.51 0 1.02-.2 1.41-.59l7.78-7.78 2.81-2.81c.8-.78.8-2.07 0-2.86zM5.41 20L4 18.59l7.72-7.72 1.47 1.35L5.41 20z\"/>\n",
              "  </svg>\n",
              "      </button>\n",
              "      \n",
              "  <style>\n",
              "    .colab-df-container {\n",
              "      display:flex;\n",
              "      flex-wrap:wrap;\n",
              "      gap: 12px;\n",
              "    }\n",
              "\n",
              "    .colab-df-convert {\n",
              "      background-color: #E8F0FE;\n",
              "      border: none;\n",
              "      border-radius: 50%;\n",
              "      cursor: pointer;\n",
              "      display: none;\n",
              "      fill: #1967D2;\n",
              "      height: 32px;\n",
              "      padding: 0 0 0 0;\n",
              "      width: 32px;\n",
              "    }\n",
              "\n",
              "    .colab-df-convert:hover {\n",
              "      background-color: #E2EBFA;\n",
              "      box-shadow: 0px 1px 2px rgba(60, 64, 67, 0.3), 0px 1px 3px 1px rgba(60, 64, 67, 0.15);\n",
              "      fill: #174EA6;\n",
              "    }\n",
              "\n",
              "    [theme=dark] .colab-df-convert {\n",
              "      background-color: #3B4455;\n",
              "      fill: #D2E3FC;\n",
              "    }\n",
              "\n",
              "    [theme=dark] .colab-df-convert:hover {\n",
              "      background-color: #434B5C;\n",
              "      box-shadow: 0px 1px 3px 1px rgba(0, 0, 0, 0.15);\n",
              "      filter: drop-shadow(0px 1px 2px rgba(0, 0, 0, 0.3));\n",
              "      fill: #FFFFFF;\n",
              "    }\n",
              "  </style>\n",
              "\n",
              "      <script>\n",
              "        const buttonEl =\n",
              "          document.querySelector('#df-f553827e-6db4-4b31-adcb-d25f7ffeb3f2 button.colab-df-convert');\n",
              "        buttonEl.style.display =\n",
              "          google.colab.kernel.accessAllowed ? 'block' : 'none';\n",
              "\n",
              "        async function convertToInteractive(key) {\n",
              "          const element = document.querySelector('#df-f553827e-6db4-4b31-adcb-d25f7ffeb3f2');\n",
              "          const dataTable =\n",
              "            await google.colab.kernel.invokeFunction('convertToInteractive',\n",
              "                                                     [key], {});\n",
              "          if (!dataTable) return;\n",
              "\n",
              "          const docLinkHtml = 'Like what you see? Visit the ' +\n",
              "            '<a target=\"_blank\" href=https://colab.research.google.com/notebooks/data_table.ipynb>data table notebook</a>'\n",
              "            + ' to learn more about interactive tables.';\n",
              "          element.innerHTML = '';\n",
              "          dataTable['output_type'] = 'display_data';\n",
              "          await google.colab.output.renderOutput(dataTable, element);\n",
              "          const docLink = document.createElement('div');\n",
              "          docLink.innerHTML = docLinkHtml;\n",
              "          element.appendChild(docLink);\n",
              "        }\n",
              "      </script>\n",
              "    </div>\n",
              "  </div>\n",
              "  "
            ]
          },
          "metadata": {},
          "execution_count": 17
        }
      ]
    },
    {
      "cell_type": "code",
      "source": [
        "people.printSchema()"
      ],
      "metadata": {
        "colab": {
          "base_uri": "https://localhost:8080/"
        },
        "id": "QXESzQYiKL1T",
        "outputId": "7f63c5aa-a4a1-43a2-9020-39f651df6948"
      },
      "execution_count": 18,
      "outputs": [
        {
          "output_type": "stream",
          "name": "stdout",
          "text": [
            "root\n",
            " |-- name: string (nullable = true)\n",
            " |-- email: string (nullable = true)\n",
            " |-- city: string (nullable = true)\n",
            " |-- mac: string (nullable = true)\n",
            " |-- timestamp: date (nullable = true)\n",
            " |-- creditcard: string (nullable = true)\n",
            "\n"
          ]
        }
      ]
    },
    {
      "cell_type": "markdown",
      "source": [
        "### Writing a Simple CSV file.\n",
        "\n",
        "Use the below syntax to write files. The data file created will be a Hadoop file. So you could change your mode and work. "
      ],
      "metadata": {
        "id": "Lhq3NJFVLaB_"
      }
    },
    {
      "cell_type": "code",
      "source": [
        "students.write.mode('overwrite').csv('write_test.csv')"
      ],
      "metadata": {
        "id": "7bFZrn0fKPQj"
      },
      "execution_count": 19,
      "outputs": []
    },
    {
      "cell_type": "markdown",
      "source": [
        "## Writing a Parquet File\n",
        "\n",
        "With the same approach you could write a parquet file \n",
        "Check out the syntax below and ensure to make out the traces of patterns"
      ],
      "metadata": {
        "id": "UP8aDLYqMFh6"
      }
    },
    {
      "cell_type": "code",
      "source": [
        "users_1_2.write.mode(\"overwrite\").parquet('parquet/')"
      ],
      "metadata": {
        "id": "UhaKN6wiMO1Q"
      },
      "execution_count": 20,
      "outputs": []
    },
    {
      "cell_type": "markdown",
      "source": [
        "The Parquet files could also be partitioned as per your wish. For paritioning, \n",
        "you need to pass the variable for partitioning. In this example, gender variable is passed. If the assumption is correct, then this variable would be a value in column by which the data would be split by. In this case, the gender column would split / partition the data to 2 different file sets where 1 has all the rows with male in gender column and the other with femal"
      ],
      "metadata": {
        "id": "Iu80t56hMhKc"
      }
    },
    {
      "cell_type": "code",
      "source": [
        "users_1_2.write.mode('overwrite').partitionBy(\"gender\").parquet('part_parquet/')"
      ],
      "metadata": {
        "id": "8PxR4wq8Mkcj"
      },
      "execution_count": 21,
      "outputs": []
    },
    {
      "cell_type": "markdown",
      "source": [
        "## Writing a data frame in Spark\n",
        "\n",
        "This would be a simple syntax where the spark values are properly written \n"
      ],
      "metadata": {
        "id": "_InCAwiNN167"
      }
    },
    {
      "cell_type": "code",
      "source": [
        "values = [('pear',10),('orange',13),('peach',5)]\n",
        "df = spark.createDataFrame(values,['fruit','quant'])\n",
        "df.show()"
      ],
      "metadata": {
        "colab": {
          "base_uri": "https://localhost:8080/"
        },
        "id": "6DAs3KgRNrjj",
        "outputId": "2dae77d2-3ccc-4d4f-dccc-fc1c41dd2d60"
      },
      "execution_count": 22,
      "outputs": [
        {
          "output_type": "stream",
          "name": "stdout",
          "text": [
            "+------+-----+\n",
            "| fruit|quant|\n",
            "+------+-----+\n",
            "|  pear|   10|\n",
            "|orange|   13|\n",
            "| peach|    5|\n",
            "+------+-----+\n",
            "\n"
          ]
        }
      ]
    },
    {
      "cell_type": "markdown",
      "source": [
        "## Excercise - 1\n",
        "\n",
        "1. viewing the first 5 lines of data frame \n",
        "2. Printing the schema details \n",
        "3. Edit Schema during the read in \n",
        "4. Generate Summary Statistics for only one variable \n",
        "5. Generate Summary Statistics for 2 variables \n",
        "6. Write a Paritioned Parquet file\n",
        "7. Write a Parquet file\n",
        "8. Read a paritioned Parquet file\n",
        "9. Reading in a set of Paritioned Parquet files\n",
        "10. Create your own dataframe\n"
      ],
      "metadata": {
        "id": "d_W2OZ7-DjsP"
      }
    },
    {
      "cell_type": "markdown",
      "source": [
        "### Excercise - 1 | Solutions "
      ],
      "metadata": {
        "id": "6w87s8CuE003"
      }
    },
    {
      "cell_type": "markdown",
      "source": [
        "### Reading a basic CSV dataset"
      ],
      "metadata": {
        "id": "b1Fu6tJ6FnX6"
      }
    },
    {
      "cell_type": "code",
      "source": [
        "pga = spark.read.csv(general_path+'pga_tour_historical.csv',inferSchema=True,header=True)"
      ],
      "metadata": {
        "id": "jT1BTM4rF3zm"
      },
      "execution_count": 24,
      "outputs": []
    },
    {
      "cell_type": "markdown",
      "source": [
        "1. Printing the first 5 rows of dataframe"
      ],
      "metadata": {
        "id": "dR6b0mVaGiQD"
      }
    },
    {
      "cell_type": "code",
      "source": [
        "pga.toPandas().head()"
      ],
      "metadata": {
        "colab": {
          "base_uri": "https://localhost:8080/",
          "height": 206
        },
        "id": "HuZGcU3fGBUg",
        "outputId": "d2a732e6-f93a-41bd-836c-c9fa008ef556"
      },
      "execution_count": 25,
      "outputs": [
        {
          "output_type": "execute_result",
          "data": {
            "text/plain": [
              "       Player Name  Season         Statistic                     Variable  \\\n",
              "0  Robert Garrigus    2010  Driving Distance  Driving Distance - (ROUNDS)   \n",
              "1     Bubba Watson    2010  Driving Distance  Driving Distance - (ROUNDS)   \n",
              "2   Dustin Johnson    2010  Driving Distance  Driving Distance - (ROUNDS)   \n",
              "3  Brett Wetterich    2010  Driving Distance  Driving Distance - (ROUNDS)   \n",
              "4      J.B. Holmes    2010  Driving Distance  Driving Distance - (ROUNDS)   \n",
              "\n",
              "  Value  \n",
              "0    71  \n",
              "1    77  \n",
              "2    83  \n",
              "3    54  \n",
              "4   100  "
            ],
            "text/html": [
              "\n",
              "  <div id=\"df-e444e997-a125-4a2f-b55c-f01375e09265\">\n",
              "    <div class=\"colab-df-container\">\n",
              "      <div>\n",
              "<style scoped>\n",
              "    .dataframe tbody tr th:only-of-type {\n",
              "        vertical-align: middle;\n",
              "    }\n",
              "\n",
              "    .dataframe tbody tr th {\n",
              "        vertical-align: top;\n",
              "    }\n",
              "\n",
              "    .dataframe thead th {\n",
              "        text-align: right;\n",
              "    }\n",
              "</style>\n",
              "<table border=\"1\" class=\"dataframe\">\n",
              "  <thead>\n",
              "    <tr style=\"text-align: right;\">\n",
              "      <th></th>\n",
              "      <th>Player Name</th>\n",
              "      <th>Season</th>\n",
              "      <th>Statistic</th>\n",
              "      <th>Variable</th>\n",
              "      <th>Value</th>\n",
              "    </tr>\n",
              "  </thead>\n",
              "  <tbody>\n",
              "    <tr>\n",
              "      <th>0</th>\n",
              "      <td>Robert Garrigus</td>\n",
              "      <td>2010</td>\n",
              "      <td>Driving Distance</td>\n",
              "      <td>Driving Distance - (ROUNDS)</td>\n",
              "      <td>71</td>\n",
              "    </tr>\n",
              "    <tr>\n",
              "      <th>1</th>\n",
              "      <td>Bubba Watson</td>\n",
              "      <td>2010</td>\n",
              "      <td>Driving Distance</td>\n",
              "      <td>Driving Distance - (ROUNDS)</td>\n",
              "      <td>77</td>\n",
              "    </tr>\n",
              "    <tr>\n",
              "      <th>2</th>\n",
              "      <td>Dustin Johnson</td>\n",
              "      <td>2010</td>\n",
              "      <td>Driving Distance</td>\n",
              "      <td>Driving Distance - (ROUNDS)</td>\n",
              "      <td>83</td>\n",
              "    </tr>\n",
              "    <tr>\n",
              "      <th>3</th>\n",
              "      <td>Brett Wetterich</td>\n",
              "      <td>2010</td>\n",
              "      <td>Driving Distance</td>\n",
              "      <td>Driving Distance - (ROUNDS)</td>\n",
              "      <td>54</td>\n",
              "    </tr>\n",
              "    <tr>\n",
              "      <th>4</th>\n",
              "      <td>J.B. Holmes</td>\n",
              "      <td>2010</td>\n",
              "      <td>Driving Distance</td>\n",
              "      <td>Driving Distance - (ROUNDS)</td>\n",
              "      <td>100</td>\n",
              "    </tr>\n",
              "  </tbody>\n",
              "</table>\n",
              "</div>\n",
              "      <button class=\"colab-df-convert\" onclick=\"convertToInteractive('df-e444e997-a125-4a2f-b55c-f01375e09265')\"\n",
              "              title=\"Convert this dataframe to an interactive table.\"\n",
              "              style=\"display:none;\">\n",
              "        \n",
              "  <svg xmlns=\"http://www.w3.org/2000/svg\" height=\"24px\"viewBox=\"0 0 24 24\"\n",
              "       width=\"24px\">\n",
              "    <path d=\"M0 0h24v24H0V0z\" fill=\"none\"/>\n",
              "    <path d=\"M18.56 5.44l.94 2.06.94-2.06 2.06-.94-2.06-.94-.94-2.06-.94 2.06-2.06.94zm-11 1L8.5 8.5l.94-2.06 2.06-.94-2.06-.94L8.5 2.5l-.94 2.06-2.06.94zm10 10l.94 2.06.94-2.06 2.06-.94-2.06-.94-.94-2.06-.94 2.06-2.06.94z\"/><path d=\"M17.41 7.96l-1.37-1.37c-.4-.4-.92-.59-1.43-.59-.52 0-1.04.2-1.43.59L10.3 9.45l-7.72 7.72c-.78.78-.78 2.05 0 2.83L4 21.41c.39.39.9.59 1.41.59.51 0 1.02-.2 1.41-.59l7.78-7.78 2.81-2.81c.8-.78.8-2.07 0-2.86zM5.41 20L4 18.59l7.72-7.72 1.47 1.35L5.41 20z\"/>\n",
              "  </svg>\n",
              "      </button>\n",
              "      \n",
              "  <style>\n",
              "    .colab-df-container {\n",
              "      display:flex;\n",
              "      flex-wrap:wrap;\n",
              "      gap: 12px;\n",
              "    }\n",
              "\n",
              "    .colab-df-convert {\n",
              "      background-color: #E8F0FE;\n",
              "      border: none;\n",
              "      border-radius: 50%;\n",
              "      cursor: pointer;\n",
              "      display: none;\n",
              "      fill: #1967D2;\n",
              "      height: 32px;\n",
              "      padding: 0 0 0 0;\n",
              "      width: 32px;\n",
              "    }\n",
              "\n",
              "    .colab-df-convert:hover {\n",
              "      background-color: #E2EBFA;\n",
              "      box-shadow: 0px 1px 2px rgba(60, 64, 67, 0.3), 0px 1px 3px 1px rgba(60, 64, 67, 0.15);\n",
              "      fill: #174EA6;\n",
              "    }\n",
              "\n",
              "    [theme=dark] .colab-df-convert {\n",
              "      background-color: #3B4455;\n",
              "      fill: #D2E3FC;\n",
              "    }\n",
              "\n",
              "    [theme=dark] .colab-df-convert:hover {\n",
              "      background-color: #434B5C;\n",
              "      box-shadow: 0px 1px 3px 1px rgba(0, 0, 0, 0.15);\n",
              "      filter: drop-shadow(0px 1px 2px rgba(0, 0, 0, 0.3));\n",
              "      fill: #FFFFFF;\n",
              "    }\n",
              "  </style>\n",
              "\n",
              "      <script>\n",
              "        const buttonEl =\n",
              "          document.querySelector('#df-e444e997-a125-4a2f-b55c-f01375e09265 button.colab-df-convert');\n",
              "        buttonEl.style.display =\n",
              "          google.colab.kernel.accessAllowed ? 'block' : 'none';\n",
              "\n",
              "        async function convertToInteractive(key) {\n",
              "          const element = document.querySelector('#df-e444e997-a125-4a2f-b55c-f01375e09265');\n",
              "          const dataTable =\n",
              "            await google.colab.kernel.invokeFunction('convertToInteractive',\n",
              "                                                     [key], {});\n",
              "          if (!dataTable) return;\n",
              "\n",
              "          const docLinkHtml = 'Like what you see? Visit the ' +\n",
              "            '<a target=\"_blank\" href=https://colab.research.google.com/notebooks/data_table.ipynb>data table notebook</a>'\n",
              "            + ' to learn more about interactive tables.';\n",
              "          element.innerHTML = '';\n",
              "          dataTable['output_type'] = 'display_data';\n",
              "          await google.colab.output.renderOutput(dataTable, element);\n",
              "          const docLink = document.createElement('div');\n",
              "          docLink.innerHTML = docLinkHtml;\n",
              "          element.appendChild(docLink);\n",
              "        }\n",
              "      </script>\n",
              "    </div>\n",
              "  </div>\n",
              "  "
            ]
          },
          "metadata": {},
          "execution_count": 25
        }
      ]
    },
    {
      "cell_type": "markdown",
      "source": [
        "2. Print the schema details"
      ],
      "metadata": {
        "id": "LY1wJkCSGmKD"
      }
    },
    {
      "cell_type": "code",
      "source": [
        "pga.printSchema()"
      ],
      "metadata": {
        "colab": {
          "base_uri": "https://localhost:8080/"
        },
        "id": "GUK0_PfCGIYK",
        "outputId": "cf7b27e4-1cff-4ace-ab25-c6ad5eb93787"
      },
      "execution_count": 26,
      "outputs": [
        {
          "output_type": "stream",
          "name": "stdout",
          "text": [
            "root\n",
            " |-- Player Name: string (nullable = true)\n",
            " |-- Season: integer (nullable = true)\n",
            " |-- Statistic: string (nullable = true)\n",
            " |-- Variable: string (nullable = true)\n",
            " |-- Value: string (nullable = true)\n",
            "\n"
          ]
        }
      ]
    },
    {
      "cell_type": "code",
      "source": [
        "pga.columns"
      ],
      "metadata": {
        "colab": {
          "base_uri": "https://localhost:8080/"
        },
        "id": "TOLcCHTDGrGI",
        "outputId": "a140a449-8a38-4747-dff0-ba15abe2e9f0"
      },
      "execution_count": 27,
      "outputs": [
        {
          "output_type": "execute_result",
          "data": {
            "text/plain": [
              "['Player Name', 'Season', 'Statistic', 'Variable', 'Value']"
            ]
          },
          "metadata": {},
          "execution_count": 27
        }
      ]
    },
    {
      "cell_type": "code",
      "source": [
        "pga.toPandas().describe()"
      ],
      "metadata": {
        "colab": {
          "base_uri": "https://localhost:8080/",
          "height": 300
        },
        "id": "Xoxr_VAFGwRh",
        "outputId": "d23a0e15-9ac2-490e-9150-0a736473e554"
      },
      "execution_count": 28,
      "outputs": [
        {
          "output_type": "execute_result",
          "data": {
            "text/plain": [
              "             Season\n",
              "count  2.740403e+06\n",
              "mean   2.013973e+03\n",
              "std    2.607050e+00\n",
              "min    2.010000e+03\n",
              "25%    2.012000e+03\n",
              "50%    2.014000e+03\n",
              "75%    2.016000e+03\n",
              "max    2.018000e+03"
            ],
            "text/html": [
              "\n",
              "  <div id=\"df-fd1cd967-d2c6-4817-8e74-88862c3d475c\">\n",
              "    <div class=\"colab-df-container\">\n",
              "      <div>\n",
              "<style scoped>\n",
              "    .dataframe tbody tr th:only-of-type {\n",
              "        vertical-align: middle;\n",
              "    }\n",
              "\n",
              "    .dataframe tbody tr th {\n",
              "        vertical-align: top;\n",
              "    }\n",
              "\n",
              "    .dataframe thead th {\n",
              "        text-align: right;\n",
              "    }\n",
              "</style>\n",
              "<table border=\"1\" class=\"dataframe\">\n",
              "  <thead>\n",
              "    <tr style=\"text-align: right;\">\n",
              "      <th></th>\n",
              "      <th>Season</th>\n",
              "    </tr>\n",
              "  </thead>\n",
              "  <tbody>\n",
              "    <tr>\n",
              "      <th>count</th>\n",
              "      <td>2.740403e+06</td>\n",
              "    </tr>\n",
              "    <tr>\n",
              "      <th>mean</th>\n",
              "      <td>2.013973e+03</td>\n",
              "    </tr>\n",
              "    <tr>\n",
              "      <th>std</th>\n",
              "      <td>2.607050e+00</td>\n",
              "    </tr>\n",
              "    <tr>\n",
              "      <th>min</th>\n",
              "      <td>2.010000e+03</td>\n",
              "    </tr>\n",
              "    <tr>\n",
              "      <th>25%</th>\n",
              "      <td>2.012000e+03</td>\n",
              "    </tr>\n",
              "    <tr>\n",
              "      <th>50%</th>\n",
              "      <td>2.014000e+03</td>\n",
              "    </tr>\n",
              "    <tr>\n",
              "      <th>75%</th>\n",
              "      <td>2.016000e+03</td>\n",
              "    </tr>\n",
              "    <tr>\n",
              "      <th>max</th>\n",
              "      <td>2.018000e+03</td>\n",
              "    </tr>\n",
              "  </tbody>\n",
              "</table>\n",
              "</div>\n",
              "      <button class=\"colab-df-convert\" onclick=\"convertToInteractive('df-fd1cd967-d2c6-4817-8e74-88862c3d475c')\"\n",
              "              title=\"Convert this dataframe to an interactive table.\"\n",
              "              style=\"display:none;\">\n",
              "        \n",
              "  <svg xmlns=\"http://www.w3.org/2000/svg\" height=\"24px\"viewBox=\"0 0 24 24\"\n",
              "       width=\"24px\">\n",
              "    <path d=\"M0 0h24v24H0V0z\" fill=\"none\"/>\n",
              "    <path d=\"M18.56 5.44l.94 2.06.94-2.06 2.06-.94-2.06-.94-.94-2.06-.94 2.06-2.06.94zm-11 1L8.5 8.5l.94-2.06 2.06-.94-2.06-.94L8.5 2.5l-.94 2.06-2.06.94zm10 10l.94 2.06.94-2.06 2.06-.94-2.06-.94-.94-2.06-.94 2.06-2.06.94z\"/><path d=\"M17.41 7.96l-1.37-1.37c-.4-.4-.92-.59-1.43-.59-.52 0-1.04.2-1.43.59L10.3 9.45l-7.72 7.72c-.78.78-.78 2.05 0 2.83L4 21.41c.39.39.9.59 1.41.59.51 0 1.02-.2 1.41-.59l7.78-7.78 2.81-2.81c.8-.78.8-2.07 0-2.86zM5.41 20L4 18.59l7.72-7.72 1.47 1.35L5.41 20z\"/>\n",
              "  </svg>\n",
              "      </button>\n",
              "      \n",
              "  <style>\n",
              "    .colab-df-container {\n",
              "      display:flex;\n",
              "      flex-wrap:wrap;\n",
              "      gap: 12px;\n",
              "    }\n",
              "\n",
              "    .colab-df-convert {\n",
              "      background-color: #E8F0FE;\n",
              "      border: none;\n",
              "      border-radius: 50%;\n",
              "      cursor: pointer;\n",
              "      display: none;\n",
              "      fill: #1967D2;\n",
              "      height: 32px;\n",
              "      padding: 0 0 0 0;\n",
              "      width: 32px;\n",
              "    }\n",
              "\n",
              "    .colab-df-convert:hover {\n",
              "      background-color: #E2EBFA;\n",
              "      box-shadow: 0px 1px 2px rgba(60, 64, 67, 0.3), 0px 1px 3px 1px rgba(60, 64, 67, 0.15);\n",
              "      fill: #174EA6;\n",
              "    }\n",
              "\n",
              "    [theme=dark] .colab-df-convert {\n",
              "      background-color: #3B4455;\n",
              "      fill: #D2E3FC;\n",
              "    }\n",
              "\n",
              "    [theme=dark] .colab-df-convert:hover {\n",
              "      background-color: #434B5C;\n",
              "      box-shadow: 0px 1px 3px 1px rgba(0, 0, 0, 0.15);\n",
              "      filter: drop-shadow(0px 1px 2px rgba(0, 0, 0, 0.3));\n",
              "      fill: #FFFFFF;\n",
              "    }\n",
              "  </style>\n",
              "\n",
              "      <script>\n",
              "        const buttonEl =\n",
              "          document.querySelector('#df-fd1cd967-d2c6-4817-8e74-88862c3d475c button.colab-df-convert');\n",
              "        buttonEl.style.display =\n",
              "          google.colab.kernel.accessAllowed ? 'block' : 'none';\n",
              "\n",
              "        async function convertToInteractive(key) {\n",
              "          const element = document.querySelector('#df-fd1cd967-d2c6-4817-8e74-88862c3d475c');\n",
              "          const dataTable =\n",
              "            await google.colab.kernel.invokeFunction('convertToInteractive',\n",
              "                                                     [key], {});\n",
              "          if (!dataTable) return;\n",
              "\n",
              "          const docLinkHtml = 'Like what you see? Visit the ' +\n",
              "            '<a target=\"_blank\" href=https://colab.research.google.com/notebooks/data_table.ipynb>data table notebook</a>'\n",
              "            + ' to learn more about interactive tables.';\n",
              "          element.innerHTML = '';\n",
              "          dataTable['output_type'] = 'display_data';\n",
              "          await google.colab.output.renderOutput(dataTable, element);\n",
              "          const docLink = document.createElement('div');\n",
              "          docLink.innerHTML = docLinkHtml;\n",
              "          element.appendChild(docLink);\n",
              "        }\n",
              "      </script>\n",
              "    </div>\n",
              "  </div>\n",
              "  "
            ]
          },
          "metadata": {},
          "execution_count": 28
        }
      ]
    },
    {
      "cell_type": "code",
      "source": [
        "pga.describe()"
      ],
      "metadata": {
        "colab": {
          "base_uri": "https://localhost:8080/"
        },
        "id": "9PGnsTbNGzk9",
        "outputId": "3f31599c-605e-427d-9995-a53a48ce5dcc"
      },
      "execution_count": 29,
      "outputs": [
        {
          "output_type": "execute_result",
          "data": {
            "text/plain": [
              "DataFrame[summary: string, Player Name: string, Season: string, Statistic: string, Variable: string, Value: string]"
            ]
          },
          "metadata": {},
          "execution_count": 29
        }
      ]
    },
    {
      "cell_type": "markdown",
      "source": [
        "3. Edit the Schema during the read in"
      ],
      "metadata": {
        "id": "B-v72rM9HoAW"
      }
    },
    {
      "cell_type": "code",
      "source": [
        "data_schema = [\n",
        "    StructField(\"Player Name\", StringType(), True),\n",
        "    StructField(\"Season\", IntegerType(), True),\n",
        "    StructField(\"Statistic\", StringType(), True),\n",
        "    StructField(\"Variable\", StringType(), True),\n",
        "    StructField(\"Value\", IntegerType(), True),\n",
        "    \n",
        "]"
      ],
      "metadata": {
        "id": "NLDqx6wrHiZq"
      },
      "execution_count": 30,
      "outputs": []
    },
    {
      "cell_type": "code",
      "source": [
        "final_struct = StructType(fields=data_schema)"
      ],
      "metadata": {
        "id": "819LPkTUH_3y"
      },
      "execution_count": 31,
      "outputs": []
    },
    {
      "cell_type": "code",
      "source": [
        "pga_1 = spark.read.csv(general_path+'pga_tour_historical.csv', schema=final_struct)"
      ],
      "metadata": {
        "id": "6ubRGH_7IEEz"
      },
      "execution_count": 33,
      "outputs": []
    },
    {
      "cell_type": "code",
      "source": [
        "pga_1.printSchema()"
      ],
      "metadata": {
        "colab": {
          "base_uri": "https://localhost:8080/"
        },
        "id": "bieSipX_IeM3",
        "outputId": "2c8f888f-0ce7-40e6-e26e-071e8061fc81"
      },
      "execution_count": 34,
      "outputs": [
        {
          "output_type": "stream",
          "name": "stdout",
          "text": [
            "root\n",
            " |-- Player Name: string (nullable = true)\n",
            " |-- Season: integer (nullable = true)\n",
            " |-- Statistic: string (nullable = true)\n",
            " |-- Variable: string (nullable = true)\n",
            " |-- Value: integer (nullable = true)\n",
            "\n"
          ]
        }
      ]
    },
    {
      "cell_type": "markdown",
      "source": [
        "4. Generate Summary Statistics "
      ],
      "metadata": {
        "id": "VgU88QLuItTA"
      }
    },
    {
      "cell_type": "code",
      "source": [
        "pga.describe(['Value']).show()"
      ],
      "metadata": {
        "colab": {
          "base_uri": "https://localhost:8080/"
        },
        "id": "5LyQzOzxIZoH",
        "outputId": "34925a90-ebe0-4e3d-88bb-613ae44f82be"
      },
      "execution_count": 35,
      "outputs": [
        {
          "output_type": "stream",
          "name": "stdout",
          "text": [
            "+-------+-----------------+\n",
            "|summary|            Value|\n",
            "+-------+-----------------+\n",
            "|  count|          2696905|\n",
            "|   mean|137053.9654385609|\n",
            "| stddev|6046342.246458688|\n",
            "|    min|       $1,001,580|\n",
            "|    max|  the Memorial/Mu|\n",
            "+-------+-----------------+\n",
            "\n"
          ]
        }
      ]
    },
    {
      "cell_type": "markdown",
      "source": [
        "5. Generate Summary Statistics for Two Variables"
      ],
      "metadata": {
        "id": "ZD_9bFH5JAlx"
      }
    },
    {
      "cell_type": "code",
      "source": [
        "pga.select(\"Season\",\"Value\").summary(\"count\",\"min\",\"max\").show()"
      ],
      "metadata": {
        "colab": {
          "base_uri": "https://localhost:8080/"
        },
        "id": "p68DlTUkIz_U",
        "outputId": "b57daf0c-c51c-42a4-d1b6-a0088b31c8c3"
      },
      "execution_count": 36,
      "outputs": [
        {
          "output_type": "stream",
          "name": "stdout",
          "text": [
            "+-------+-------+---------------+\n",
            "|summary| Season|          Value|\n",
            "+-------+-------+---------------+\n",
            "|  count|2740403|        2696905|\n",
            "|    min|   2010|     $1,001,580|\n",
            "|    max|   2018|the Memorial/Mu|\n",
            "+-------+-------+---------------+\n",
            "\n"
          ]
        }
      ]
    },
    {
      "cell_type": "markdown",
      "source": [
        "6. Write a parquet file "
      ],
      "metadata": {
        "id": "zg0hsH8uJ1oN"
      }
    },
    {
      "cell_type": "code",
      "source": [
        "df = pga.select(\"Season\",\"Value\")\n",
        "df.write.mode(\"Overwrite\").parquet(\"partition_parquet/\")"
      ],
      "metadata": {
        "id": "-0ngkhNeJLC4"
      },
      "execution_count": 37,
      "outputs": []
    },
    {
      "cell_type": "markdown",
      "source": [
        "7. Write a Paritioned Parquet File"
      ],
      "metadata": {
        "id": "dzRVOICaKLXs"
      }
    },
    {
      "cell_type": "code",
      "source": [
        "df.write.mode(\"Overwrite\").partitionBy(\"Season\").parquet(\"paritioned_parquet/\")\n",
        "df.show(5)"
      ],
      "metadata": {
        "colab": {
          "base_uri": "https://localhost:8080/"
        },
        "id": "OkaML5lrKDoT",
        "outputId": "a448fd79-9aaf-458f-fc3d-f7ddc8ef9fd2"
      },
      "execution_count": 39,
      "outputs": [
        {
          "output_type": "stream",
          "name": "stdout",
          "text": [
            "+------+-----+\n",
            "|Season|Value|\n",
            "+------+-----+\n",
            "|  2010|   71|\n",
            "|  2010|   77|\n",
            "|  2010|   83|\n",
            "|  2010|   54|\n",
            "|  2010|  100|\n",
            "+------+-----+\n",
            "only showing top 5 rows\n",
            "\n"
          ]
        }
      ]
    },
    {
      "cell_type": "markdown",
      "source": [
        "8. Reading a set of paritioned Parquet file"
      ],
      "metadata": {
        "id": "vC-bz4KvMzvC"
      }
    },
    {
      "cell_type": "code",
      "source": [
        "path = \"paritioned_parquet/\"\n",
        "parquet = spark.read.parquet(path)\n",
        "parquet.show()        "
      ],
      "metadata": {
        "colab": {
          "base_uri": "https://localhost:8080/"
        },
        "id": "Dbucx1LJKXUd",
        "outputId": "7f9bbed9-a691-4ec4-91cf-2e88c3fa72e5"
      },
      "execution_count": 40,
      "outputs": [
        {
          "output_type": "stream",
          "name": "stdout",
          "text": [
            "+-----+------+\n",
            "|Value|Season|\n",
            "+-----+------+\n",
            "|   71|  2010|\n",
            "|   77|  2010|\n",
            "|   83|  2010|\n",
            "|   54|  2010|\n",
            "|  100|  2010|\n",
            "|   63|  2010|\n",
            "|   88|  2010|\n",
            "|   64|  2010|\n",
            "|   64|  2010|\n",
            "|   92|  2010|\n",
            "|   75|  2010|\n",
            "|   54|  2010|\n",
            "|   76|  2010|\n",
            "|   94|  2010|\n",
            "|   82|  2010|\n",
            "|   85|  2010|\n",
            "|   79|  2010|\n",
            "|   89|  2010|\n",
            "|   88|  2010|\n",
            "|   91|  2010|\n",
            "+-----+------+\n",
            "only showing top 20 rows\n",
            "\n"
          ]
        }
      ]
    },
    {
      "cell_type": "markdown",
      "source": [
        "9. Reading in a set of Partitioned Parquet file"
      ],
      "metadata": {
        "id": "2msSq7d1NDCt"
      }
    },
    {
      "cell_type": "code",
      "source": [
        "path = \"/content/paritioned_parquet/\"\n",
        "partitioned = spark.read.parquet(path+'Season=2010/',path+'Season=2011/',path+'Season=2012/')\n",
        "\n",
        "partitioned.show(5)"
      ],
      "metadata": {
        "colab": {
          "base_uri": "https://localhost:8080/"
        },
        "id": "pJp9I-R6MmXt",
        "outputId": "9bdfd4b7-f690-4ade-f5da-48c4216af46d"
      },
      "execution_count": 50,
      "outputs": [
        {
          "output_type": "stream",
          "name": "stdout",
          "text": [
            "+-----+\n",
            "|Value|\n",
            "+-----+\n",
            "|   71|\n",
            "|   77|\n",
            "|   83|\n",
            "|   54|\n",
            "|  100|\n",
            "+-----+\n",
            "only showing top 5 rows\n",
            "\n"
          ]
        }
      ]
    },
    {
      "cell_type": "code",
      "source": [
        "path = \"/content/paritioned_parquet/\"\n",
        "partitioned = spark.read.option(\"basePath\",path).parquet(path+'Season=2010/',path+'Season=2011/',path+'Season=2012/')\n",
        "partitioned.show(5)"
      ],
      "metadata": {
        "colab": {
          "base_uri": "https://localhost:8080/"
        },
        "id": "MCuewft5NwU8",
        "outputId": "19ca3ae2-a54f-4017-8045-ef9e4e952229"
      },
      "execution_count": 51,
      "outputs": [
        {
          "output_type": "stream",
          "name": "stdout",
          "text": [
            "+-----+------+\n",
            "|Value|Season|\n",
            "+-----+------+\n",
            "|   71|  2010|\n",
            "|   77|  2010|\n",
            "|   83|  2010|\n",
            "|   54|  2010|\n",
            "|  100|  2010|\n",
            "+-----+------+\n",
            "only showing top 5 rows\n",
            "\n"
          ]
        }
      ]
    },
    {
      "cell_type": "markdown",
      "source": [
        "10. Create your own DataFrame "
      ],
      "metadata": {
        "id": "2vpmX-x6PBFZ"
      }
    },
    {
      "cell_type": "code",
      "source": [
        "values = [('Sydney',10,'A',1),('Melbourne',36,'A',1),('Perth',123,'A',1),('Adelaide',23,'B',1)]\n",
        "df = spark.createDataFrame(values,['city_names','age','AB','number'])\n",
        "df.show()"
      ],
      "metadata": {
        "colab": {
          "base_uri": "https://localhost:8080/"
        },
        "id": "FI1JPy19O8H9",
        "outputId": "54685a6b-ffe9-40a2-9331-4eb2485566a0"
      },
      "execution_count": 53,
      "outputs": [
        {
          "output_type": "stream",
          "name": "stdout",
          "text": [
            "+----------+---+---+------+\n",
            "|city_names|age| AB|number|\n",
            "+----------+---+---+------+\n",
            "|    Sydney| 10|  A|     1|\n",
            "| Melbourne| 36|  A|     1|\n",
            "|     Perth|123|  A|     1|\n",
            "|  Adelaide| 23|  B|     1|\n",
            "+----------+---+---+------+\n",
            "\n"
          ]
        }
      ]
    },
    {
      "cell_type": "code",
      "source": [],
      "metadata": {
        "id": "fMZJBM4FPpJq"
      },
      "execution_count": null,
      "outputs": []
    }
  ]
}